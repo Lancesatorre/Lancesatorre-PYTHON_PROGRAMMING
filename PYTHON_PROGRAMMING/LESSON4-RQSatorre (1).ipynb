{
 "cells": [
  {
   "cell_type": "markdown",
   "id": "ba8eef07-1dbc-451d-86f0-f2735e4271a4",
   "metadata": {},
   "source": [
    "# REVIEW QUESTION / LECTURE No. 4"
   ]
  },
  {
   "cell_type": "markdown",
   "id": "f2f691f8-667b-4863-bd92-e56ec4cdd5c0",
   "metadata": {},
   "source": [
    "Page 5"
   ]
  },
  {
   "cell_type": "code",
   "execution_count": 6,
   "id": "6ec3bd6f-8c3a-4daa-b0ac-4957fa1ae51e",
   "metadata": {},
   "outputs": [
    {
     "name": "stdout",
     "output_type": "stream",
     "text": [
      "True\n",
      "False\n",
      "True\n",
      "True\n",
      "True\n",
      "False\n"
     ]
    }
   ],
   "source": [
    "a = 1 <= 1\n",
    "b = 1 != 1\n",
    "c = 1 != 2\n",
    "d = \"good\" != \"bad\"\n",
    "e = \"good\" != \"Good\"\n",
    "f = 123 == \"123\"\n",
    "\n",
    "print(a)\n",
    "print(b)\n",
    "print(c)\n",
    "print(d)\n",
    "print(e)\n",
    "print(f)"
   ]
  },
  {
   "cell_type": "code",
   "execution_count": 4,
   "id": "2b05d2cb-2367-44ba-b0a5-eef3349fe19e",
   "metadata": {},
   "outputs": [
    {
     "name": "stdout",
     "output_type": "stream",
     "text": [
      "True\n",
      "True\n",
      "True\n",
      "True\n"
     ]
    }
   ],
   "source": [
    "print(3 < 4)\n",
    "print(10 > 5)\n",
    "print(\"jack\" != \"jill\")\n",
    "print(42 != \"42\")"
   ]
  },
  {
   "cell_type": "markdown",
   "id": "ada15ddd-e349-4acb-a07f-7ee26d7784ad",
   "metadata": {},
   "source": [
    "Page 10"
   ]
  },
  {
   "cell_type": "code",
   "execution_count": 10,
   "id": "3be77faf-63da-409f-8563-4875b5e50122",
   "metadata": {},
   "outputs": [
    {
     "name": "stdout",
     "output_type": "stream",
     "text": [
      "False\n",
      "False\n",
      "True\n",
      "False\n"
     ]
    }
   ],
   "source": [
    "print((a) and (b))\n",
    "print(not (c))\n",
    "print((d) or False)\n",
    "print((e) and not (1 == 1))"
   ]
  },
  {
   "cell_type": "code",
   "execution_count": 27,
   "id": "c6011828-d2a3-4c7e-8aec-bda16c1cf998",
   "metadata": {},
   "outputs": [
    {
     "name": "stdout",
     "output_type": "stream",
     "text": [
      "True\n",
      "True\n",
      "True\n"
     ]
    }
   ],
   "source": [
    "print(False == (not True))\n",
    "print(True and False == (True and False))\n",
    "print(not (True and \"A\" == \"B\"))"
   ]
  },
  {
   "cell_type": "markdown",
   "id": "cf91716a-6bb9-4ec4-86ff-a6d83fb440f9",
   "metadata": {},
   "source": [
    "Page 15"
   ]
  },
  {
   "cell_type": "code",
   "execution_count": 37,
   "id": "c2399ac2-6f26-4a27-9c0c-b8dd6fea2d44",
   "metadata": {},
   "outputs": [
    {
     "name": "stdin",
     "output_type": "stream",
     "text": [
      "Enter a word:  lansee\n"
     ]
    },
    {
     "name": "stdout",
     "output_type": "stream",
     "text": [
      "Character is greater than 5\n"
     ]
    }
   ],
   "source": [
    "prompt = input(\"Enter a word: \")\n",
    "if len(prompt) < 5: print(\"Character is less than 5\")\n",
    "elif len(prompt) > 5: print(\"Character is greater than 5\")\n",
    "else: print(\"Character is equal to 5\")"
   ]
  },
  {
   "cell_type": "markdown",
   "id": "8455fb52-4dff-4d18-9ed2-d889d2f26590",
   "metadata": {},
   "source": [
    "Page 20"
   ]
  },
  {
   "cell_type": "code",
   "execution_count": 21,
   "id": "b23ef8a2-e98d-4a79-919e-c6dc5c702ca0",
   "metadata": {},
   "outputs": [
    {
     "name": "stdin",
     "output_type": "stream",
     "text": [
      "Input anything:  q\n"
     ]
    }
   ],
   "source": [
    "found_Q = False;\n",
    "while True: \n",
    "  user_input = input(\"Input anything: \") \n",
    "  for n in user_input:\n",
    "      if n == \"Q\" or n == \"q\": \n",
    "          found_Q = True\n",
    "          break;\n",
    "  if found_Q:\n",
    "    break;           "
   ]
  },
  {
   "cell_type": "code",
   "execution_count": 12,
   "id": "d11bfd9e-ec9b-44f6-8b55-8ef11867671e",
   "metadata": {},
   "outputs": [
    {
     "name": "stdout",
     "output_type": "stream",
     "text": [
      "1\n",
      "2\n",
      "4\n",
      "5\n",
      "7\n",
      "8\n",
      "10\n",
      "11\n",
      "13\n",
      "14\n",
      "16\n",
      "17\n",
      "19\n",
      "20\n",
      "22\n",
      "23\n",
      "25\n",
      "26\n",
      "28\n",
      "29\n",
      "31\n",
      "32\n",
      "34\n",
      "35\n",
      "37\n",
      "38\n",
      "40\n",
      "41\n",
      "43\n",
      "44\n",
      "46\n",
      "47\n",
      "49\n",
      "50\n"
     ]
    }
   ],
   "source": [
    "for n in range(1,51):\n",
    "  if n % 3 == 0:\n",
    "     continue;\n",
    "  print(n) "
   ]
  },
  {
   "cell_type": "markdown",
   "id": "c5c2181b-5c84-420f-a001-ab999fd37ec0",
   "metadata": {},
   "source": [
    "Page 28"
   ]
  },
  {
   "cell_type": "code",
   "execution_count": 39,
   "id": "d1b30007-b893-41bb-b94b-1bc79c3bf46d",
   "metadata": {},
   "outputs": [
    {
     "name": "stdin",
     "output_type": "stream",
     "text": [
      "Input an integer: asd\n"
     ]
    },
    {
     "name": "stdout",
     "output_type": "stream",
     "text": [
      "That is not Integers\n"
     ]
    }
   ],
   "source": [
    "# No. 1\n",
    "while True:\n",
    "    try:\n",
    "        user_input = int(input(\"Input an integer:\"))\n",
    "        print(\"The integer you input is: \",user_input)\n",
    "        break;\n",
    "    except ValueError:\n",
    "        print(\"That is not Integers\")"
   ]
  },
  {
   "cell_type": "code",
   "execution_count": 64,
   "id": "b6403d0d-3785-4397-85bd-ae10da464dab",
   "metadata": {},
   "outputs": [
    {
     "name": "stdin",
     "output_type": "stream",
     "text": [
      "Enter a string:  lance\n",
      "Input an integer N: 5\n"
     ]
    },
    {
     "name": "stdout",
     "output_type": "stream",
     "text": [
      "Out of bounds\n"
     ]
    },
    {
     "name": "stdin",
     "output_type": "stream",
     "text": [
      "Input an integer N: 0\n"
     ]
    },
    {
     "name": "stdout",
     "output_type": "stream",
     "text": [
      "'l'\n"
     ]
    }
   ],
   "source": [
    "# No. 2\n",
    "user_input_string = input(\"Enter a string: \")\n",
    "while True:\n",
    "    try:\n",
    "        N = int(input(\"Input an integer N:\"))\n",
    "        if N < 0 or N >= len(user_input_string): print(\"Out of bounds\")\n",
    "        else:\n",
    "            print(f\"'{user_input_string[N]}'\")\n",
    "            break;\n",
    "    except ValueError: print(\"That is not Integers\")"
   ]
  },
  {
   "cell_type": "markdown",
   "id": "44e545ee-fb57-4c1f-a214-804be9fbb7d9",
   "metadata": {},
   "source": [
    "Page 32"
   ]
  },
  {
   "cell_type": "code",
   "execution_count": 20,
   "id": "198b89f2-6ab6-4d96-97f6-a99bc8679a58",
   "metadata": {},
   "outputs": [
    {
     "name": "stdout",
     "output_type": "stream",
     "text": [
      "2\n"
     ]
    }
   ],
   "source": [
    "import random\n",
    "def ROLL():\n",
    "  return random.randint(1,6)\n",
    "\n",
    "print(ROLL())"
   ]
  },
  {
   "cell_type": "code",
   "execution_count": 68,
   "id": "caaca300-bf81-4138-a63f-ddd291cca4dc",
   "metadata": {},
   "outputs": [
    {
     "name": "stdout",
     "output_type": "stream",
     "text": [
      "Average number of rolles:  3.4787\n"
     ]
    }
   ],
   "source": [
    "def average_roll(rolls):\n",
    "    total_fair = 0\n",
    "    for n in range(rolls):\n",
    "        roll = ROLL()\n",
    "        total_fair += roll\n",
    "        \n",
    "    return total_fair / rolls\n",
    "\n",
    "print(\"Average number of rolles: \", simulates_rolls(10_000))"
   ]
  },
  {
   "cell_type": "markdown",
   "id": "80f0b91c-d402-4759-9c42-e6928795518c",
   "metadata": {},
   "source": [
    "# CHALLENGE: SIMULATE AN ELECTION"
   ]
  },
  {
   "cell_type": "code",
   "execution_count": null,
   "id": "4de170d0-35dc-4852-aa40-ebf7851e6051",
   "metadata": {},
   "outputs": [],
   "source": [
    "\n",
    "    "
   ]
  }
 ],
 "metadata": {
  "kernelspec": {
   "display_name": "Python 3 (ipykernel)",
   "language": "python",
   "name": "python3"
  },
  "language_info": {
   "codemirror_mode": {
    "name": "ipython",
    "version": 3
   },
   "file_extension": ".py",
   "mimetype": "text/x-python",
   "name": "python",
   "nbconvert_exporter": "python",
   "pygments_lexer": "ipython3",
   "version": "3.13.5"
  }
 },
 "nbformat": 4,
 "nbformat_minor": 5
}
