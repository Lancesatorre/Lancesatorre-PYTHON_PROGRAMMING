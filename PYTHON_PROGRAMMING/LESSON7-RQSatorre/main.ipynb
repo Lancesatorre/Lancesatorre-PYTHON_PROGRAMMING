{
 "cells": [
  {
   "cell_type": "code",
   "execution_count": 2,
   "id": "5eefc5a9-c633-442d-990a-c2652cb94c76",
   "metadata": {},
   "outputs": [
    {
     "data": {
      "text/plain": [
       "'HELLO Lance!'"
      ]
     },
     "execution_count": 2,
     "metadata": {},
     "output_type": "execute_result"
    }
   ],
   "source": [
    "import greeter\n",
    "\n",
    "greeter.greet(\"Lance\")"
   ]
  },
  {
   "cell_type": "code",
   "execution_count": 5,
   "id": "139b8801-371a-453a-bb88-98131699884a",
   "metadata": {},
   "outputs": [
    {
     "name": "stdout",
     "output_type": "stream",
     "text": [
      " THE AREA OF A 5-BY-8 RECTANGLE IS 40\n"
     ]
    }
   ],
   "source": [
    "from package_exercise.string import shout\n",
    "from package_exercise.math import area\n",
    "\n",
    "name = shout(\"rectangle\")\n",
    "product = area(5,8)\n",
    "print(f\" THE AREA OF A 5-BY-8 {name} IS {product}\")"
   ]
  },
  {
   "cell_type": "code",
   "execution_count": null,
   "id": "f84d656d-1e05-4c53-9375-2ac43e315f01",
   "metadata": {},
   "outputs": [],
   "source": []
  },
  {
   "cell_type": "code",
   "execution_count": null,
   "id": "7eafd58f-26b3-476c-b53c-229ef18c213d",
   "metadata": {},
   "outputs": [],
   "source": []
  }
 ],
 "metadata": {
  "kernelspec": {
   "display_name": "Python [conda env:base] *",
   "language": "python",
   "name": "conda-base-py"
  },
  "language_info": {
   "codemirror_mode": {
    "name": "ipython",
    "version": 3
   },
   "file_extension": ".py",
   "mimetype": "text/x-python",
   "name": "python",
   "nbconvert_exporter": "python",
   "pygments_lexer": "ipython3",
   "version": "3.13.5"
  }
 },
 "nbformat": 4,
 "nbformat_minor": 5
}
