{
 "cells": [
  {
   "cell_type": "markdown",
   "id": "4006677a-0748-4561-b027-bfb4d1fa9cd4",
   "metadata": {},
   "source": [
    "# LESSON 5 - REVIEW EXERCISES"
   ]
  },
  {
   "cell_type": "markdown",
   "id": "27ee1b3a-e0bf-44c4-a1be-93b7a5b442e6",
   "metadata": {},
   "source": [
    "# Pg 17 - TUPLE"
   ]
  },
  {
   "cell_type": "code",
   "execution_count": 1,
   "id": "b7d1a029-6014-4f81-9fd5-c8ce0a267825",
   "metadata": {},
   "outputs": [
    {
     "name": "stdout",
     "output_type": "stream",
     "text": [
      "('FIRST', 'SECOND', 'THIRD')\n"
     ]
    }
   ],
   "source": [
    "# NO.1\n",
    "Cardinal_Numbers = (\"FIRST\", \"SECOND\",\"THIRD\")\n",
    "print(Cardinal_Numbers)"
   ]
  },
  {
   "cell_type": "code",
   "execution_count": 4,
   "id": "99f43cdf-e700-468a-ad9d-bd1569606228",
   "metadata": {},
   "outputs": [
    {
     "name": "stdout",
     "output_type": "stream",
     "text": [
      "SECOND\n"
     ]
    }
   ],
   "source": [
    "# NO.2\n",
    "print(Cardinal_Numbers[1])"
   ]
  },
  {
   "cell_type": "code",
   "execution_count": 5,
   "id": "1be88b6b-bd09-4753-b0b7-9d7c4647f08d",
   "metadata": {},
   "outputs": [
    {
     "name": "stdout",
     "output_type": "stream",
     "text": [
      "FIRST\n",
      "SECOND\n",
      "THIRD\n"
     ]
    }
   ],
   "source": [
    "# NO.3\n",
    "position1, position2, position3 = Cardinal_Numbers\n",
    "print(position1)\n",
    "print(position2)\n",
    "print(position3)"
   ]
  },
  {
   "cell_type": "code",
   "execution_count": 9,
   "id": "db2d39fb-5139-4578-a936-048555b9c929",
   "metadata": {},
   "outputs": [
    {
     "name": "stdout",
     "output_type": "stream",
     "text": [
      "('L', 'a', 'n', 'c', 'e', ' ', 'T', 'i', 'm', 'o', 't', 'h', 'y', ' ', 'S', 'a', 't', 'o', 'r', 'r', 'e')\n"
     ]
    }
   ],
   "source": [
    "My_name = tuple(\"Lance\")\n",
    "print(My_name)"
   ]
  },
  {
   "cell_type": "code",
   "execution_count": 10,
   "id": "a17f438d-0158-4da5-8649-73d939589156",
   "metadata": {},
   "outputs": [
    {
     "name": "stdout",
     "output_type": "stream",
     "text": [
      "False\n"
     ]
    }
   ],
   "source": [
    "print(\"x\" in My_name)"
   ]
  },
  {
   "cell_type": "code",
   "execution_count": 14,
   "id": "294b0147-0449-4dc1-a519-bd6915c18430",
   "metadata": {},
   "outputs": [
    {
     "name": "stdout",
     "output_type": "stream",
     "text": [
      "('a', 'n', 'c', 'e', ' ', 'T', 'i', 'm', 'o', 't', 'h', 'y', ' ', 'S', 'a', 't', 'o', 'r', 'r', 'e')\n"
     ]
    }
   ],
   "source": [
    "First_Letter_in_My_Name = tuple(My_name[1::])\n",
    "print(First_Letter_in_My_Name)"
   ]
  },
  {
   "cell_type": "markdown",
   "id": "0696ec68-3f6f-4f10-a2aa-cda851a69eef",
   "metadata": {},
   "source": [
    "# Pg 36 - LIST"
   ]
  },
  {
   "cell_type": "code",
   "execution_count": 15,
   "id": "2bb7635d-dad3-472d-9514-8c89846e22f7",
   "metadata": {},
   "outputs": [
    {
     "name": "stdout",
     "output_type": "stream",
     "text": [
      "['RICE', 'BEANS']\n"
     ]
    }
   ],
   "source": [
    "Food = [\"RICE\",\"BEANS\"]\n"
   ]
  },
  {
   "cell_type": "code",
   "execution_count": 16,
   "id": "30b876d1-0f46-4652-b2ab-d9da4f2b0f43",
   "metadata": {},
   "outputs": [
    {
     "name": "stdout",
     "output_type": "stream",
     "text": [
      "['RICE', 'BEANS', 'BROCOLLI']\n"
     ]
    }
   ],
   "source": [
    "Food.append(\"BROCOLLI\")"
   ]
  },
  {
   "cell_type": "code",
   "execution_count": 19,
   "id": "19e03053-8dc1-46ae-b8ac-cbf33ff4af34",
   "metadata": {},
   "outputs": [
    {
     "name": "stdout",
     "output_type": "stream",
     "text": [
      "['RICE', 'BEANS', 'BROCOLLI', 'BREAD', 'PIZZA']\n"
     ]
    }
   ],
   "source": [
    "Food.extend([\"BREAD\", \"PIZZA\"])"
   ]
  },
  {
   "cell_type": "code",
   "execution_count": 20,
   "id": "372261bc-e520-4ba3-8b98-6cb4d87d36c4",
   "metadata": {},
   "outputs": [
    {
     "name": "stdout",
     "output_type": "stream",
     "text": [
      "['RICE', 'BEANS']\n"
     ]
    }
   ],
   "source": [
    "print(Food[0:2])"
   ]
  },
  {
   "cell_type": "code",
   "execution_count": 22,
   "id": "54dc0297-dbda-41c0-b27f-066bb82d8f31",
   "metadata": {},
   "outputs": [
    {
     "name": "stdout",
     "output_type": "stream",
     "text": [
      "PIZZA\n"
     ]
    }
   ],
   "source": [
    "print(Food[len(Food)-1])"
   ]
  },
  {
   "cell_type": "code",
   "execution_count": 31,
   "id": "0418e7e5-2c12-41ff-a620-5c70e8b70b38",
   "metadata": {},
   "outputs": [
    {
     "name": "stdout",
     "output_type": "stream",
     "text": [
      "['EGGS', 'FRUIT', 'ORANGE JUICE']\n"
     ]
    }
   ],
   "source": [
    "string_food = \"EGGS, FRUIT, ORANGE JUICE\"\n",
    "Breakfas = string_food.split(\", \")\n",
    "print(Breakfast)"
   ]
  },
  {
   "cell_type": "code",
   "execution_count": 27,
   "id": "51fe3d57-4c18-448c-b0a1-5aec795d5cc5",
   "metadata": {},
   "outputs": [
    {
     "name": "stdout",
     "output_type": "stream",
     "text": [
      "3\n"
     ]
    }
   ],
   "source": [
    "print(len(Breakfast))"
   ]
  },
  {
   "cell_type": "code",
   "execution_count": 30,
   "id": "45eb71ae-dc4e-4f80-952f-010079ba4fef",
   "metadata": {},
   "outputs": [
    {
     "name": "stdout",
     "output_type": "stream",
     "text": [
      "[4, 5, 12]\n"
     ]
    }
   ],
   "source": [
    "Lengths = [len(value) for value in Breakfast]\n",
    "print(Lengths)"
   ]
  },
  {
   "cell_type": "markdown",
   "id": "7d24c0b1-aa23-4730-b539-5de5d0179ab2",
   "metadata": {},
   "source": [
    "# Pg 41"
   ]
  },
  {
   "cell_type": "code",
   "execution_count": 5,
   "id": "a4a31a67-e0f0-495a-9f0c-269776bead35",
   "metadata": {},
   "outputs": [
    {
     "name": "stdout",
     "output_type": "stream",
     "text": [
      "(1, 2)\n"
     ]
    }
   ],
   "source": [
    "data = ((1,2),(3,4))\n"
   ]
  },
  {
   "cell_type": "code",
   "execution_count": 20,
   "id": "e08005c1-47b6-4011-8c83-3e54a8dfb30f",
   "metadata": {},
   "outputs": [
    {
     "name": "stdout",
     "output_type": "stream",
     "text": [
      "Row = 1 sum = 3\n",
      "Row = 2 sum = 7\n"
     ]
    }
   ],
   "source": [
    "for n in range(len(data)):\n",
    "    sum=0\n",
    "    for value in data[n]:\n",
    "        sum += value\n",
    "    print(f\"Row = {n+1} sum = {sum}\")"
   ]
  },
  {
   "cell_type": "code",
   "execution_count": 25,
   "id": "a170b91e-8754-4da5-aaf7-a4ad8937192e",
   "metadata": {},
   "outputs": [
    {
     "name": "stdout",
     "output_type": "stream",
     "text": [
      "[2, 3, 4, 9, 1, 7]\n"
     ]
    }
   ],
   "source": [
    "num_list = [2,3,4,9,1,7]\n",
    "numbers = num_list[:]\n",
    "print(numbers)"
   ]
  },
  {
   "cell_type": "code",
   "execution_count": 26,
   "id": "ccf62b35-2b1f-422a-9538-d9c1f3fc6e9f",
   "metadata": {},
   "outputs": [
    {
     "name": "stdout",
     "output_type": "stream",
     "text": [
      "[1, 2, 3, 4, 7, 9]\n"
     ]
    }
   ],
   "source": [
    "num_list.sort()\n",
    "print(num_list)"
   ]
  },
  {
   "cell_type": "code",
   "execution_count": 27,
   "id": "1f4551e6-9ed5-4b30-b748-21ef4c4000d3",
   "metadata": {},
   "outputs": [
    {
     "name": "stdout",
     "output_type": "stream",
     "text": [
      "[['California Institute of Technology', 2175, 37704], ['Harvard', 19627, 39849], ['Massachusetts Institute of Technology', 10566, 40732], ['Princeton', 7802, 37000], ['Rice', 5879, 35551], ['Stanford', 19535, 40569], ['Yale', 11701, 40500]]\n"
     ]
    }
   ],
   "source": [
    "universities = [\n",
    "                ['California Institute of Technology', 2175, 37704],\n",
    "                ['Harvard', 19627, 39849],\n",
    "                ['Massachusetts Institute of Technology', 10566, 40732],\n",
    "                ['Princeton', 7802, 37000],\n",
    "                ['Rice', 5879, 35551],\n",
    "                ['Stanford', 19535, 40569],\n",
    "                ['Yale', 11701, 40500]\n",
    "]\n",
    "\n",
    "print(universities)"
   ]
  },
  {
   "cell_type": "code",
   "execution_count": 28,
   "id": "9d9fef15-b6ae-41d4-9d04-915687ecc075",
   "metadata": {},
   "outputs": [
    {
     "name": "stdout",
     "output_type": "stream",
     "text": [
      "['FOSSIL', 'HORSE', 'AARDVARK', 'JUDGE', 'CHEF', 'MANGO', 'EXTROVERT', 'GORILLA']\n",
      "['KICKS', 'JINGLES', 'BOUNCES', 'SLURPS', 'MEOWS', 'EXPLODES', 'CURDLES']\n",
      "['FURRY', 'BALDING', 'INCREDULOUS', 'FRAGRANT', 'EXUBERANT', 'GLISTENING']\n",
      "['AGAINST', 'AFTER', 'INTO', 'BENEATH', 'UPON', 'FOR', 'IN', 'LIKE', 'OVER', 'WITHIN']\n",
      "['CURIOUSLY', 'FURIOUSLY', 'SENSUOUSLYEXTRAVAGANTLY', 'TANTALIZINLY']\n"
     ]
    }
   ],
   "source": [
    "NOUNS = [\"FOSSIL\", \"HORSE\", \"AARDVARK\", \"JUDGE\", \"CHEF\", \"MANGO\",\"EXTROVERT\", \"GORILLA\"]\n",
    "VERBS = [\"KICKS\", \"JINGLES\", \"BOUNCES\", \"SLURPS\", \"MEOWS\", \"EXPLODES\", \"CURDLES\"]\n",
    "ADJECTIVES = [\"FURRY\", \"BALDING\", \"INCREDULOUS\", \"FRAGRANT\", \"EXUBERANT\", \"GLISTENING\"]\n",
    "PREPOSITIONS = [\"AGAINST\", \"AFTER\", \"INTO\", \"BENEATH\", \"UPON\", \"FOR\", \"IN\", \"LIKE\", \"OVER\", \"WITHIN\"]\n",
    "ADVERBS = [\"CURIOUSLY\", \"FURIOUSLY\", \"SENSUOUSLY\" \"EXTRAVAGANTLY\", \"TANTALIZINLY\"]\n",
    "\n",
    "print(NOUNS)\n",
    "print(VERBS)\n",
    "print(ADJECTIVES)\n",
    "print(PREPOSITIONS)\n",
    "print(ADVERBS)"
   ]
  },
  {
   "cell_type": "markdown",
   "id": "2b69d8b7-a400-4b82-8b4c-a4bca4e4bbb2",
   "metadata": {},
   "source": [
    "# Pg 57 - DICTIONARY"
   ]
  },
  {
   "cell_type": "code",
   "execution_count": 23,
   "id": "01e386d4-9ab8-4fa0-aa64-0efcba7504c2",
   "metadata": {},
   "outputs": [],
   "source": [
    "captains = {}"
   ]
  },
  {
   "cell_type": "code",
   "execution_count": 27,
   "id": "9d905695-1944-431f-b40e-aa3b293165ad",
   "metadata": {},
   "outputs": [
    {
     "name": "stdout",
     "output_type": "stream",
     "text": [
      "'Enterprise' : 'Picard'\n",
      "'Voyager' : 'Janeway'\n",
      "'Defiant' : 'Sisco'\n"
     ]
    }
   ],
   "source": [
    "captains = {}\n",
    "captains[\"Enterprise\"] = \"Picard\"\n",
    "captains[\"Voyager\"] = \"Janeway\"\n",
    "captains[\"Defiant\"] = \"Sisco\"\n",
    "\n",
    "for n in captains:\n",
    "        print(f\"'{n}' : '{captains[n]}'\")"
   ]
  },
  {
   "cell_type": "code",
   "execution_count": 29,
   "id": "41ae3cb7-5d84-4fd6-9481-b7610895c881",
   "metadata": {},
   "outputs": [
    {
     "name": "stdout",
     "output_type": "stream",
     "text": [
      "'Enterprise' : 'Picard'\n",
      "'Voyager' : 'Janeway'\n",
      "'Defiant' : 'Sisco'\n",
      "'Discovery' : 'Unknwon'\n"
     ]
    }
   ],
   "source": [
    "if not (\"Enterprise\" in captains): captains[\"Eterprise\"] = \"Unknown\"\n",
    "if not (\"Discovery\" in captains): captains[\"Discovery\"] = \"Unknwon\"\n",
    "\n",
    "for n in captains:\n",
    "        print(f\"'{n}' : '{captains[n]}'\")\n",
    "    "
   ]
  },
  {
   "cell_type": "code",
   "execution_count": 30,
   "id": "8a9113e6-a1b3-4e32-8294-43111e8dc6f0",
   "metadata": {},
   "outputs": [
    {
     "name": "stdout",
     "output_type": "stream",
     "text": [
      "The Enterprise is captained by Picard.\n",
      "The Voyager is captained by Janeway.\n",
      "The Defiant is captained by Sisco.\n",
      "The Discovery is captained by Unknwon.\n"
     ]
    }
   ],
   "source": [
    "for n in captains:\n",
    "        print(f\"The {n} is captained by {captains[n]}.\")"
   ]
  },
  {
   "cell_type": "markdown",
   "id": "9106dbf9-2aab-4ce9-85ee-933f114485cd",
   "metadata": {},
   "source": [
    "# Pg. 58"
   ]
  },
  {
   "cell_type": "code",
   "execution_count": 31,
   "id": "af3be639-ca54-4348-846f-c9dea5b74ea6",
   "metadata": {},
   "outputs": [
    {
     "name": "stdout",
     "output_type": "stream",
     "text": [
      "'Enterprise' : 'Picard'\n",
      "'Voyager' : 'Janeway'\n",
      "'Defiant' : 'Sisco'\n"
     ]
    }
   ],
   "source": [
    "del captains[\"Discovery\"]\n",
    "for n in captains: print(f\"'{n}' : '{captains[n]}'\")"
   ]
  },
  {
   "cell_type": "code",
   "execution_count": 35,
   "id": "739eb545-3b8c-4b5d-9076-6855e60e1b06",
   "metadata": {},
   "outputs": [
    {
     "name": "stdout",
     "output_type": "stream",
     "text": [
      "'Enterprise' : 'Picard'\n",
      "'Voyager' : 'Janeway'\n",
      "'Defiant' : 'Sisco'\n"
     ]
    }
   ],
   "source": [
    "key_pairs = ((\"Enterprise\", \"Picard\"),\n",
    "             (\"Voyager\", \"Janeway\"),\n",
    "             (\"Defiant\", \"Sisco\")\n",
    "            )\n",
    "captains_new = dict(key_pairs)\n",
    "for n in captains_new: print(f\"'{n}' : '{captains_new[n]}'\")"
   ]
  },
  {
   "cell_type": "code",
   "execution_count": 37,
   "id": "6578f477-3a11-442f-a521-9962ca8e5038",
   "metadata": {},
   "outputs": [
    {
     "ename": "SyntaxError",
     "evalue": "unterminated string literal (detected at line 5) (938935504.py, line 5)",
     "output_type": "error",
     "traceback": [
      "\u001b[1;36m  Cell \u001b[1;32mIn[37], line 5\u001b[1;36m\u001b[0m\n\u001b[1;33m    'Arkansas': 'Little Rock,\u001b[0m\n\u001b[1;37m                ^\u001b[0m\n\u001b[1;31mSyntaxError\u001b[0m\u001b[1;31m:\u001b[0m unterminated string literal (detected at line 5)\n"
     ]
    }
   ],
   "source": [
    "capitals_dict={\n",
    "    'Alabama': 'Montgomery',\n",
    "    'Alaska': 'Juneau',\n",
    "     'Arizona': 'Phoenix',\n",
    "    'Arkansas': 'Little Rock',\n",
    "    'California': 'Sacramento',\n",
    "    'Colorado': 'Denver',\n",
    "    'Connecticut': 'Hartford',\n",
    "    'Delaware': 'Dover',\n",
    "    'Florida': 'Tallahassee'\n",
    "    'Georgia': 'Atlanta',\n",
    "}\n",
    "\n",
    "for n in capitals_dict: print(f\"'{n}' : '{capitals_dict[n]}'\")"
   ]
  },
  {
   "cell_type": "code",
   "execution_count": null,
   "id": "00dd5134-ea59-4e27-b0f5-fd3a71a3d683",
   "metadata": {},
   "outputs": [],
   "source": []
  }
 ],
 "metadata": {
  "kernelspec": {
   "display_name": "Python 3 (ipykernel)",
   "language": "python",
   "name": "python3"
  },
  "language_info": {
   "codemirror_mode": {
    "name": "ipython",
    "version": 3
   },
   "file_extension": ".py",
   "mimetype": "text/x-python",
   "name": "python",
   "nbconvert_exporter": "python",
   "pygments_lexer": "ipython3",
   "version": "3.13.5"
  }
 },
 "nbformat": 4,
 "nbformat_minor": 5
}
