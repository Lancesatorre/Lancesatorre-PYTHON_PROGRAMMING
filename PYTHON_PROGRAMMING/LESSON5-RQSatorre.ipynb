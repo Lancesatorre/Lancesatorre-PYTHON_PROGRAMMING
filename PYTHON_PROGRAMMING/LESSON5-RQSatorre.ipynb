{
 "cells": [
  {
   "cell_type": "markdown",
   "id": "4006677a-0748-4561-b027-bfb4d1fa9cd4",
   "metadata": {},
   "source": [
    "# LESSON 5 - REVIEW EXERCISES"
   ]
  },
  {
   "cell_type": "markdown",
   "id": "27ee1b3a-e0bf-44c4-a1be-93b7a5b442e6",
   "metadata": {},
   "source": [
    "# Pg 17 - TUPLE"
   ]
  },
  {
   "cell_type": "code",
   "execution_count": 1,
   "id": "b7d1a029-6014-4f81-9fd5-c8ce0a267825",
   "metadata": {},
   "outputs": [
    {
     "name": "stdout",
     "output_type": "stream",
     "text": [
      "('FIRST', 'SECOND', 'THIRD')\n"
     ]
    }
   ],
   "source": [
    "# NO.1\n",
    "Cardinal_Numbers = (\"FIRST\", \"SECOND\",\"THIRD\")\n",
    "print(Cardinal_Numbers)"
   ]
  },
  {
   "cell_type": "code",
   "execution_count": 4,
   "id": "99f43cdf-e700-468a-ad9d-bd1569606228",
   "metadata": {},
   "outputs": [
    {
     "name": "stdout",
     "output_type": "stream",
     "text": [
      "SECOND\n"
     ]
    }
   ],
   "source": [
    "# NO.2\n",
    "print(Cardinal_Numbers[1])"
   ]
  },
  {
   "cell_type": "code",
   "execution_count": 5,
   "id": "1be88b6b-bd09-4753-b0b7-9d7c4647f08d",
   "metadata": {},
   "outputs": [
    {
     "name": "stdout",
     "output_type": "stream",
     "text": [
      "FIRST\n",
      "SECOND\n",
      "THIRD\n"
     ]
    }
   ],
   "source": [
    "# NO.3\n",
    "position1, position2, position3 = Cardinal_Numbers\n",
    "print(position1)\n",
    "print(position2)\n",
    "print(position3)"
   ]
  },
  {
   "cell_type": "code",
   "execution_count": 9,
   "id": "db2d39fb-5139-4578-a936-048555b9c929",
   "metadata": {},
   "outputs": [
    {
     "name": "stdout",
     "output_type": "stream",
     "text": [
      "('L', 'a', 'n', 'c', 'e', ' ', 'T', 'i', 'm', 'o', 't', 'h', 'y', ' ', 'S', 'a', 't', 'o', 'r', 'r', 'e')\n"
     ]
    }
   ],
   "source": [
    "My_name = tuple(\"Lance\")\n",
    "print(My_name)"
   ]
  },
  {
   "cell_type": "code",
   "execution_count": 10,
   "id": "a17f438d-0158-4da5-8649-73d939589156",
   "metadata": {},
   "outputs": [
    {
     "name": "stdout",
     "output_type": "stream",
     "text": [
      "False\n"
     ]
    }
   ],
   "source": [
    "print(\"x\" in My_name)"
   ]
  },
  {
   "cell_type": "code",
   "execution_count": 14,
   "id": "294b0147-0449-4dc1-a519-bd6915c18430",
   "metadata": {},
   "outputs": [
    {
     "name": "stdout",
     "output_type": "stream",
     "text": [
      "('a', 'n', 'c', 'e', ' ', 'T', 'i', 'm', 'o', 't', 'h', 'y', ' ', 'S', 'a', 't', 'o', 'r', 'r', 'e')\n"
     ]
    }
   ],
   "source": [
    "First_Letter_in_My_Name = tuple(My_name[1::])\n",
    "print(First_Letter_in_My_Name)"
   ]
  },
  {
   "cell_type": "markdown",
   "id": "0696ec68-3f6f-4f10-a2aa-cda851a69eef",
   "metadata": {},
   "source": [
    "# Pg 36 - LIST"
   ]
  },
  {
   "cell_type": "code",
   "execution_count": 15,
   "id": "2bb7635d-dad3-472d-9514-8c89846e22f7",
   "metadata": {},
   "outputs": [
    {
     "name": "stdout",
     "output_type": "stream",
     "text": [
      "['RICE', 'BEANS']\n"
     ]
    }
   ],
   "source": [
    "Food = [\"RICE\",\"BEANS\"]\n"
   ]
  },
  {
   "cell_type": "code",
   "execution_count": 16,
   "id": "30b876d1-0f46-4652-b2ab-d9da4f2b0f43",
   "metadata": {},
   "outputs": [
    {
     "name": "stdout",
     "output_type": "stream",
     "text": [
      "['RICE', 'BEANS', 'BROCOLLI']\n"
     ]
    }
   ],
   "source": [
    "Food.append(\"BROCOLLI\")"
   ]
  },
  {
   "cell_type": "code",
   "execution_count": 19,
   "id": "19e03053-8dc1-46ae-b8ac-cbf33ff4af34",
   "metadata": {},
   "outputs": [
    {
     "name": "stdout",
     "output_type": "stream",
     "text": [
      "['RICE', 'BEANS', 'BROCOLLI', 'BREAD', 'PIZZA']\n"
     ]
    }
   ],
   "source": [
    "Food.extend([\"BREAD\", \"PIZZA\"])"
   ]
  },
  {
   "cell_type": "code",
   "execution_count": 20,
   "id": "372261bc-e520-4ba3-8b98-6cb4d87d36c4",
   "metadata": {},
   "outputs": [
    {
     "name": "stdout",
     "output_type": "stream",
     "text": [
      "['RICE', 'BEANS']\n"
     ]
    }
   ],
   "source": [
    "print(Food[0:2])"
   ]
  },
  {
   "cell_type": "code",
   "execution_count": 22,
   "id": "54dc0297-dbda-41c0-b27f-066bb82d8f31",
   "metadata": {},
   "outputs": [
    {
     "name": "stdout",
     "output_type": "stream",
     "text": [
      "PIZZA\n"
     ]
    }
   ],
   "source": [
    "print(Food[len(Food)-1])"
   ]
  },
  {
   "cell_type": "code",
   "execution_count": 26,
   "id": "0418e7e5-2c12-41ff-a620-5c70e8b70b38",
   "metadata": {},
   "outputs": [
    {
     "name": "stdout",
     "output_type": "stream",
     "text": [
      "['EGGS', 'FRUIT', 'ORANGE JUICE']\n"
     ]
    }
   ],
   "source": [
    "string_food = \"EGGS, FRUIT, ORANGE JUICE\"\n",
    "Breakfas = string_food.\n",
    "print(Breakfast)"
   ]
  },
  {
   "cell_type": "code",
   "execution_count": 27,
   "id": "51fe3d57-4c18-448c-b0a1-5aec795d5cc5",
   "metadata": {},
   "outputs": [
    {
     "name": "stdout",
     "output_type": "stream",
     "text": [
      "3\n"
     ]
    }
   ],
   "source": [
    "print(len(Breakfast))"
   ]
  },
  {
   "cell_type": "code",
   "execution_count": 30,
   "id": "45eb71ae-dc4e-4f80-952f-010079ba4fef",
   "metadata": {},
   "outputs": [
    {
     "name": "stdout",
     "output_type": "stream",
     "text": [
      "[4, 5, 12]\n"
     ]
    }
   ],
   "source": [
    "Lengths = [len(value) for value in Breakfast]\n",
    "print(Lengths)"
   ]
  },
  {
   "cell_type": "code",
   "execution_count": null,
   "id": "196df683-b6ac-414d-ab15-eb6f011e6314",
   "metadata": {},
   "outputs": [],
   "source": []
  }
 ],
 "metadata": {
  "kernelspec": {
   "display_name": "Python 3 (ipykernel)",
   "language": "python",
   "name": "python3"
  },
  "language_info": {
   "codemirror_mode": {
    "name": "ipython",
    "version": 3
   },
   "file_extension": ".py",
   "mimetype": "text/x-python",
   "name": "python",
   "nbconvert_exporter": "python",
   "pygments_lexer": "ipython3",
   "version": "3.13.5"
  }
 },
 "nbformat": 4,
 "nbformat_minor": 5
}
