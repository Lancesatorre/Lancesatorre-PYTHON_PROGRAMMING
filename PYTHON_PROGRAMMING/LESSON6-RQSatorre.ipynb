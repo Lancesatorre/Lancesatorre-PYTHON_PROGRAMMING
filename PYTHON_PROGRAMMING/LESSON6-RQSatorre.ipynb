{
 "cells": [
  {
   "cell_type": "markdown",
   "id": "5c5136f7-f500-4e42-9181-d7c4da396715",
   "metadata": {},
   "source": [
    "# Review Question 1"
   ]
  },
  {
   "cell_type": "code",
   "execution_count": 7,
   "id": "f141f6c2-0a09-4d9d-922f-59a0e9d89d80",
   "metadata": {},
   "outputs": [
    {
     "name": "stdout",
     "output_type": "stream",
     "text": [
      "Philo's coat is brown\n"
     ]
    }
   ],
   "source": [
    "class Dog:\n",
    "    species =\"Cannis Familiaris\"\n",
    "\n",
    "    def __init__(self,name,age,coat_color):\n",
    "        self.name = name\n",
    "        self.age = age\n",
    "        self.coat_color = coat_color \n",
    "\n",
    "philo = Dog(\"Philo\",5 ,\"brown\")\n",
    "print(f\"{philo.name}'s coat is {philo.coat_color}\")\n"
   ]
  },
  {
   "cell_type": "code",
   "execution_count": 3,
   "id": "6749adb7-5bce-4520-9fb7-cc6e84d0a977",
   "metadata": {},
   "outputs": [
    {
     "name": "stdout",
     "output_type": "stream",
     "text": [
      "The Blue car has 20,000 miles\n",
      "The Red car has 30,000 miles\n"
     ]
    }
   ],
   "source": [
    "class Car:\n",
    "\n",
    "    def __init__(self, color, miliage):\n",
    "        self.color = color\n",
    "        self.miliage = miliage\n",
    "\n",
    "\n",
    "blueCar = Car(\"Blue\", 20000)\n",
    "redCar = Car(\"Red\", 30000)\n",
    "\n",
    "print(f\"The {blueCar.color} car has {blueCar.miliage:,} miles\")\n",
    "print(f\"The {redCar.color} car has {redCar.miliage:,} miles\")"
   ]
  },
  {
   "cell_type": "code",
   "execution_count": 4,
   "id": "691ef8a0-aa3e-4df5-8997-bde7ed377f10",
   "metadata": {},
   "outputs": [
    {
     "name": "stdout",
     "output_type": "stream",
     "text": [
      "The Blue car has 20,400 miles\n",
      "The Red car has 30,000 miles\n"
     ]
    }
   ],
   "source": [
    "class Car:\n",
    "\n",
    "    def __init__(self, color, miliage):\n",
    "        self.color = color\n",
    "        self.miliage = miliage\n",
    "\n",
    "    def drive(self,num):\n",
    "        self.miliage += num\n",
    "        return self.miliage\n",
    "     \n",
    "\n",
    "\n",
    "blueCar = Car(\"Blue\", 20000)\n",
    "redCar = Car(\"Red\", 30000)\n",
    "blueCar.drive(400)\n",
    "\n",
    "print(f\"The {blueCar.color} car has {blueCar.miliage:,} miles\")\n",
    "print(f\"The {redCar.color} car has {redCar.miliage:,} miles\")"
   ]
  },
  {
   "cell_type": "markdown",
   "id": "6d75a7c0-980c-4fd4-885a-15a164ebc122",
   "metadata": {},
   "source": [
    "# Review Question 2"
   ]
  },
  {
   "cell_type": "code",
   "execution_count": 5,
   "id": "c2ec636d-15ff-4505-ac5a-923450a6bbb5",
   "metadata": {},
   "outputs": [
    {
     "data": {
      "text/plain": [
       "'Janny says arf'"
      ]
     },
     "execution_count": 5,
     "metadata": {},
     "output_type": "execute_result"
    }
   ],
   "source": [
    "class Dog:\n",
    "    species =\"Cannis Familiaris\"\n",
    "\n",
    "    def __init__(self,name,age):\n",
    "        self.name = name\n",
    "        self.age = age\n",
    "    def __str__(self):\n",
    "        return f\"{self.name} is {self.age} years old\"\n",
    "\n",
    "    def speak(self, sound):\n",
    "        return f\"{self.name} says {sound}\"\n",
    "    \n",
    "class GoldenRetriever(Dog):\n",
    "    def speak(self,sound):\n",
    "        return f\"{self.name} says {sound}\"\n",
    "\n",
    "dog1 = GoldenRetriever(\"Janny\",3)\n",
    "dog1.speak(\"arf\")"
   ]
  },
  {
   "cell_type": "code",
   "execution_count": 6,
   "id": "80bd3cae-c4d0-490e-ae1f-1d04c7fa5b5c",
   "metadata": {},
   "outputs": [
    {
     "data": {
      "text/plain": [
       "16"
      ]
     },
     "execution_count": 6,
     "metadata": {},
     "output_type": "execute_result"
    }
   ],
   "source": [
    "class Rectangle:\n",
    "\n",
    "    def __init__(self, length,width):\n",
    "        self.length = length\n",
    "        self.width = width\n",
    "\n",
    "    def area(self):\n",
    "        return self.length * self.width\n",
    "\n",
    "class Square(Rectangle):\n",
    "\n",
    "    def __init__(self, side_length):\n",
    "        super().__init__(side_length,side_length)\n",
    "\n",
    "shapeOne = Square(4)\n",
    "shapeOne.area()\n",
    "        "
   ]
  },
  {
   "cell_type": "markdown",
   "id": "0b14e677-37ff-4300-8dca-2ebecec9afea",
   "metadata": {},
   "source": [
    "# Challenge : Model A Farm"
   ]
  },
  {
   "cell_type": "code",
   "execution_count": 7,
   "id": "943f9c9e-030f-4e0d-a224-e38acaed382b",
   "metadata": {},
   "outputs": [
    {
     "name": "stdout",
     "output_type": "stream",
     "text": [
      "Janky is eating.\n",
      "Janky says meee!\n",
      "Janky is eating grass.\n",
      "Gesimly is sleeping.\n",
      "Gesimly says Cluck!\n",
      "Gesimly lays 20 eggs per week.\n",
      "Cedrily is eating.\n",
      "Cedrily says Moo!\n",
      "Cedrily produces 10 liters of milk per day.\n"
     ]
    }
   ],
   "source": [
    "# Parent class\n",
    "class Animal:\n",
    "    def __init__(self, name, age):\n",
    "        self.name = name\n",
    "        self.age = age\n",
    "\n",
    "    def eat(self):\n",
    "        print(f\"{self.name} is eating.\")\n",
    "\n",
    "    def sleep(self):\n",
    "        print(f\"{self.name} is sleeping.\")\n",
    "\n",
    "\n",
    "# Child classes\n",
    "class Goat(Animal):\n",
    "    def __init__(self, name, age, weight):\n",
    "        super().__init__(name, age)\n",
    "        self.weight = weight\n",
    "\n",
    "    def make_sound(self):\n",
    "        print(f\"{self.name} says meee!\")\n",
    "\n",
    "    def eating_a_grass(self):\n",
    "        print(f\"{self.name} is eating grass.\")\n",
    "\n",
    "class Chicken(Animal):\n",
    "    def __init__(self, name, age, egg_count):\n",
    "        super().__init__(name, age)\n",
    "        self.egg_count = egg_count\n",
    "\n",
    "    def make_sound(self):\n",
    "        print(f\"{self.name} says Cluck!\")\n",
    "\n",
    "    def lay_eggs(self):\n",
    "        print(f\"{self.name} lays {self.egg_count} eggs per week.\")\n",
    "\n",
    "\n",
    "class Cow(Animal):\n",
    "    def __init__(self, name, age, milk_production):\n",
    "        super().__init__(name, age)\n",
    "        self.milk_production = milk_production\n",
    "\n",
    "    def make_sound(self):\n",
    "        print(f\"{self.name} says Moo!\")\n",
    "\n",
    "    def produce_milk(self):\n",
    "        print(f\"{self.name} produces {self.milk_production} liters of milk per day.\")\n",
    "\n",
    "\n",
    "\n",
    "goat = Goat(\"Janky\", 3, 150)\n",
    "chicken = Chicken(\"Gesimly\", 2, 20)\n",
    "cow = Cow(\"Cedrily\", 5, 10)\n",
    "\n",
    "goat.eat()\n",
    "goat.make_sound()\n",
    "goat.eating_a_grass()\n",
    "\n",
    "chicken.sleep()\n",
    "chicken.make_sound()\n",
    "chicken.lay_eggs()\n",
    "\n",
    "cow.eat()\n",
    "cow.make_sound()\n",
    "cow.produce_milk()\n",
    "\n",
    "\n"
   ]
  },
  {
   "cell_type": "code",
   "execution_count": null,
   "id": "5f70978a-fc42-440d-8e7f-ecfa153162ae",
   "metadata": {},
   "outputs": [],
   "source": []
  }
 ],
 "metadata": {
  "kernelspec": {
   "display_name": "Python [conda env:base] *",
   "language": "python",
   "name": "conda-base-py"
  },
  "language_info": {
   "codemirror_mode": {
    "name": "ipython",
    "version": 3
   },
   "file_extension": ".py",
   "mimetype": "text/x-python",
   "name": "python",
   "nbconvert_exporter": "python",
   "pygments_lexer": "ipython3",
   "version": "3.13.5"
  }
 },
 "nbformat": 4,
 "nbformat_minor": 5
}
