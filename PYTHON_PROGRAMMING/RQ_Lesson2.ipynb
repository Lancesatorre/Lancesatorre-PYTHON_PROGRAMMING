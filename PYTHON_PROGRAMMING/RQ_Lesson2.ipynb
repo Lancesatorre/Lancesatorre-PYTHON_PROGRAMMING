{
 "cells": [
  {
   "cell_type": "markdown",
   "id": "4f9d6218-2758-4866-acab-9e3f5f2bcd0c",
   "metadata": {},
   "source": [
    "# ===| PAGE 5 |=== "
   ]
  },
  {
   "cell_type": "code",
   "execution_count": 8,
   "id": "175e2b3e-5e58-4cc9-ab1f-97ebd33fc6ae",
   "metadata": {},
   "outputs": [
    {
     "name": "stdout",
     "output_type": "stream",
     "text": [
      "(25, 0, 0)\n",
      "25000000\n"
     ]
    }
   ],
   "source": [
    "# No.1\n",
    "num1 = 25,000,000\n",
    "num2 = 25_000_00\n",
    "\n",
    "print(num1)\n",
    "print(num2)"
   ]
  },
  {
   "cell_type": "code",
   "execution_count": 11,
   "id": "92dba7f7-0cd4-46f3-b56c-663a22d9763e",
   "metadata": {},
   "outputs": [
    {
     "name": "stdout",
     "output_type": "stream",
     "text": [
      "175000.0\n"
     ]
    }
   ],
   "source": [
    "# No.2\n",
    "num = 1.75 * 10**5\n",
    "print(num)"
   ]
  },
  {
   "cell_type": "code",
   "execution_count": 13,
   "id": "c7b45c0e-56a3-4154-94d1-da6fc8aa1ba3",
   "metadata": {},
   "outputs": [
    {
     "name": "stdout",
     "output_type": "stream",
     "text": [
      "inf\n"
     ]
    }
   ],
   "source": [
    "print(2e308)"
   ]
  },
  {
   "cell_type": "markdown",
   "id": "e05cd3cd-7e36-46f9-8fc8-742f308a7f15",
   "metadata": {},
   "source": [
    "# ===| PAGE 10 |=== "
   ]
  },
  {
   "cell_type": "code",
   "execution_count": 4,
   "id": "184e233c-8c55-451d-b69a-48deb20ee457",
   "metadata": {},
   "outputs": [
    {
     "name": "stdin",
     "output_type": "stream",
     "text": [
      "Enter a base:  1.2\n",
      "Enter an exponent:  3\n"
     ]
    },
    {
     "name": "stdout",
     "output_type": "stream",
     "text": [
      "1.2 to the power of 3 =  1.7279999999999998\n"
     ]
    }
   ],
   "source": [
    "base = input(\"Enter a base: \")\n",
    "exponent = input(\"Enter an exponent: \")\n",
    "\n",
    "total = float(base) ** float(exponent)\n",
    "print(base + \" to the power of \" + exponent + \" = \" , total)"
   ]
  },
  {
   "cell_type": "markdown",
   "id": "8cebbe2b-3de9-49da-84db-c23bcb9eddc4",
   "metadata": {},
   "source": [
    "# ===| PAGE 13 |=== "
   ]
  },
  {
   "cell_type": "code",
   "execution_count": 12,
   "id": "9e82d00c-f34a-4cb3-81b5-3ada42b15797",
   "metadata": {},
   "outputs": [
    {
     "name": "stdin",
     "output_type": "stream",
     "text": [
      "Enter a number:  5.432\n"
     ]
    },
    {
     "name": "stdout",
     "output_type": "stream",
     "text": [
      "5.432rounded to 2 decimal places is :  5.43\n"
     ]
    }
   ],
   "source": [
    "# No.1\n",
    "number = input(\"Enter a number: \")\n",
    "\n",
    "rounded = round(float(number),2)\n",
    "\n",
    "print(number + \" rounded to 2 decimal places is : \", rounded)"
   ]
  },
  {
   "cell_type": "code",
   "execution_count": 16,
   "id": "0b3c3013-d324-4512-82e9-c102924af6e4",
   "metadata": {},
   "outputs": [
    {
     "name": "stdin",
     "output_type": "stream",
     "text": [
      "Enter a number:  -10\n"
     ]
    },
    {
     "name": "stdout",
     "output_type": "stream",
     "text": [
      "The absolute value of-10 is 10.0\n"
     ]
    }
   ],
   "source": [
    "# No.2\n",
    "number = input(\"Enter a number: \")\n",
    "\n",
    "abs_number = abs(float(number))\n",
    "\n",
    "print(\"The absolute value of\" + number + \" is\" ,abs_number)"
   ]
  },
  {
   "cell_type": "markdown",
   "id": "d1a630a7-aa26-4830-ba08-71309ef55e52",
   "metadata": {},
   "source": [
    "# ===| PAGE 14 |=== "
   ]
  },
  {
   "cell_type": "code",
   "execution_count": 26,
   "id": "80be77f2-7d39-420f-979e-62577dc3c512",
   "metadata": {},
   "outputs": [
    {
     "name": "stdin",
     "output_type": "stream",
     "text": [
      "Enter a number:  1.5\n",
      "Enter another number:  1.0\n"
     ]
    },
    {
     "name": "stdout",
     "output_type": "stream",
     "text": [
      "The difference between 1.5 and 1.0 is an integer?  False\n"
     ]
    }
   ],
   "source": [
    "number =  input(\"Enter a number: \")\n",
    "number1 = input(\"Enter another number: \")\n",
    "\n",
    "total = float(number) - float(number1)\n",
    "\n",
    "print(\"The difference between \" + number + \" and \" + number1 + \" is an integer? \", total.is_integer())"
   ]
  },
  {
   "cell_type": "markdown",
   "id": "76f070bc-6b32-48ac-b1f3-3b3a53ffbfdc",
   "metadata": {},
   "source": [
    "# ===| PAGE 18 |=== "
   ]
  },
  {
   "cell_type": "code",
   "execution_count": 27,
   "id": "7e1e2f68-2289-4957-b012-b340ede80c39",
   "metadata": {},
   "outputs": [
    {
     "data": {
      "text/plain": [
       "1.147"
      ]
     },
     "execution_count": 27,
     "metadata": {},
     "output_type": "execute_result"
    }
   ],
   "source": [
    "# No.1\n",
    "calculation = 3**.125\n",
    "\n",
    "rounded = round(float(calculation), 3)\n",
    "\n",
    "rounded"
   ]
  },
  {
   "cell_type": "code",
   "execution_count": 29,
   "id": "2a69e609-e7ad-41ac-a9fe-e0df118a2fc8",
   "metadata": {},
   "outputs": [
    {
     "name": "stdout",
     "output_type": "stream",
     "text": [
      "$150,000.00\n"
     ]
    }
   ],
   "source": [
    "# No.2\n",
    "p_number = 150000\n",
    "\n",
    "print(f\"${float(p_number):,.2f}\")"
   ]
  },
  {
   "cell_type": "code",
   "execution_count": 38,
   "id": "2e430eb4-1db2-4897-adeb-d068703d3f10",
   "metadata": {},
   "outputs": [
    {
     "name": "stdout",
     "output_type": "stream",
     "text": [
      "0.2\n"
     ]
    }
   ],
   "source": [
    "result = 2/10\n",
    "\n",
    "print(f\"{result:0}\")"
   ]
  },
  {
   "cell_type": "code",
   "execution_count": null,
   "id": "94a63353-509f-42ee-9d5c-41694c837bad",
   "metadata": {},
   "outputs": [],
   "source": []
  }
 ],
 "metadata": {
  "kernelspec": {
   "display_name": "Python 3 (ipykernel)",
   "language": "python",
   "name": "python3"
  },
  "language_info": {
   "codemirror_mode": {
    "name": "ipython",
    "version": 3
   },
   "file_extension": ".py",
   "mimetype": "text/x-python",
   "name": "python",
   "nbconvert_exporter": "python",
   "pygments_lexer": "ipython3",
   "version": "3.13.5"
  }
 },
 "nbformat": 4,
 "nbformat_minor": 5
}
