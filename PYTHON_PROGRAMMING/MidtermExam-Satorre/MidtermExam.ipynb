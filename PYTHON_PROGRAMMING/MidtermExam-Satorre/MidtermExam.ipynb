{
 "cells": [
  {
   "cell_type": "markdown",
   "id": "39eadbe1-0135-4e0b-94f8-1d6f12261ae9",
   "metadata": {},
   "source": [
    "# Name: Lance Timothy Satorre     \n",
    "# MIDTERM EXAM"
   ]
  },
  {
   "cell_type": "markdown",
   "id": "2bdc32be-7815-435e-ab23-a3d5b4462b0f",
   "metadata": {
    "jp-MarkdownHeadingCollapsed": true
   },
   "source": [
    "# Q1\n",
    "### String Normalizer & Finder. \n",
    "Write a function normalize_and_find(text: str, needle: str) -> int that: (1) trims whitespace on both ends, (2) con- verts to lowercase, then (3) returns the index of the first occurrence of needle using a safe search (return −1 if not found). Discuss alternatives (find vs. index), and how your choice affects error handling. Anchor concepts: stripping, case conversion, find/replace, string immutability. Reference: :contentReference[oaicite:6]index=6"
   ]
  },
  {
   "cell_type": "markdown",
   "id": "bbc09bce-db7d-486b-9d2e-2b2d33b55d6d",
   "metadata": {},
   "source": [
    "### Prompt\n",
    "Write a Python function normalize_and_find(text, needle) that trims leading/trailing whitespace, converts to lowercase, and returns the first index of needle in the normalized text. If not found, return −1."
   ]
  },
  {
   "cell_type": "markdown",
   "id": "5f4ae95b-b3ce-4d4a-8759-e84c1e225e54",
   "metadata": {},
   "source": [
    "### ChatGPT Code"
   ]
  },
  {
   "cell_type": "code",
   "execution_count": 1,
   "id": "827078b2-35e7-4a7d-924e-ddc03e020675",
   "metadata": {},
   "outputs": [
    {
     "name": "stdout",
     "output_type": "stream",
     "text": [
      "6\n"
     ]
    }
   ],
   "source": [
    "def normalize_and_find(text, needle):\n",
    "    text = text.strip().lower()\n",
    "    return text.find(needle.lower())\n",
    "\n",
    "print(normalize_and_find(\"  Hello World!  \", \"world\"))"
   ]
  },
  {
   "cell_type": "markdown",
   "id": "28ebe105-bffe-4828-be2a-ece11c8f5024",
   "metadata": {},
   "source": [
    "### Critique\n",
    "##### Correctness:\n",
    "Works as intended trims whitespace, normalizes case, and uses .find() which safely returns -1 if needle is not found. Matches all steps in the task.\n",
    "\n",
    "##### Complexity:\n",
    "O(n) time and O(1) extra space, optimal for single string traversal.\n",
    "\n",
    "##### Robustness:\n",
    "Handles empty strings, mixed case, and extra spaces.\n",
    "Could add type hints and checks for non-string input for stronger error handling.\n",
    "\n",
    "##### Readability:\n",
    "Variable names are clear and code is compact. Adding a docstring and explicit .lower() on needle improves clarity.\n",
    "\n",
    "##### Faithfulness:\n",
    "Uses .strip(), .lower(), and .find() — all methods discussed in Lecture 1: Strings"
   ]
  },
  {
   "cell_type": "markdown",
   "id": "7975b217-9baf-4a97-9654-c825093a13a0",
   "metadata": {},
   "source": [
    "### Improved Code"
   ]
  },
  {
   "cell_type": "code",
   "execution_count": 12,
   "id": "2bad2587-ec10-4e3c-bec9-1bfea64fac60",
   "metadata": {},
   "outputs": [
    {
     "name": "stdout",
     "output_type": "stream",
     "text": [
      "9\n",
      "5\n",
      "-1\n",
      "-1\n",
      "-1\n"
     ]
    }
   ],
   "source": [
    "def normalize_and_find(text: str, needle: str) -> int:\n",
    "    normalized = text.strip().lower()\n",
    "    return normalized.find(needle.lower())\n",
    "\n",
    "\n",
    "print(normalize_and_find(\"  Hello My World!  \", \"world\"))\n",
    "print(normalize_and_find(\"Checking\", \"ing\"))\n",
    "print(normalize_and_find(\"Success\", \"a\"))\n",
    "print(normalize_and_find(\"Let me check\", \"xyz\"))\n",
    "print(normalize_and_find(\"\", \"a\"))"
   ]
  },
  {
   "cell_type": "markdown",
   "id": "f091186f-c866-42c0-8814-f5d43120088b",
   "metadata": {
    "jp-MarkdownHeadingCollapsed": true
   },
   "source": [
    "# Q2\n",
    "### Leetspeak Translator (Parametric).\n",
    "Generalize our leetspeak idea: write translate(text: str, mapping: dict[str,str]) -> str that applies a mapping (e.g., {’a’:’4’,’e’:’3’,...}) over lowercase letters only, leaving others unchanged. Explain why strings are im-\n",
    "mutable and show an efficient approach (e.g., list join vs. repeated concatenation). Anchor concepts: replace, iteration strategies, efficiency. Reference: :contentRefer- ence[oaicite:7]index=7\n"
   ]
  },
  {
   "cell_type": "markdown",
   "id": "c93903f9-c3f3-4e7c-a61f-c49b2e527d28",
   "metadata": {},
   "source": [
    "### Prompt\n",
    "write translate(text: str, mapping: dict[str,str]) -> str that applies a mapping (e.g., {’a’:’4’,’e’:’3’,...}) over lowercase letters only, leaving others unchanged. Explain why strings are im- mutable and show an efficient approach (e.g., list join vs. repeated concatenation). Anchor concepts: replace, iteration strategies, efficiency"
   ]
  },
  {
   "cell_type": "markdown",
   "id": "c0e2c138-46e9-4891-9d03-1652eb1e4f9c",
   "metadata": {},
   "source": [
    "### ChatGPT Code"
   ]
  },
  {
   "cell_type": "code",
   "execution_count": 14,
   "id": "40924da5-7bcc-4900-8637-12724d82ee3b",
   "metadata": {},
   "outputs": [
    {
     "name": "stdout",
     "output_type": "stream",
     "text": [
      "L337 5p34k 7357\n"
     ]
    }
   ],
   "source": [
    "def translate(text, mapping):\n",
    "    result = \"\"\n",
    "    for ch in text:\n",
    "        if ch in mapping:\n",
    "            result += mapping[ch]\n",
    "        else:\n",
    "            result += ch\n",
    "    return result\n",
    "\n",
    "print(translate(\"Leet speak test\", {'a':'4','e':'3','i':'1','o':'0','s':'5','t':'7'}))"
   ]
  },
  {
   "cell_type": "markdown",
   "id": "9449e463-0ba4-4799-876c-4115a523ae39",
   "metadata": {},
   "source": [
    "### Critique\n",
    "##### Correctness:\n",
    "Functionally correct applies mapping to each character, leaves others unchanged.\n",
    "But inefficient because string concatenation (result += ...) creates a new string each time, which is slow for long texts due to string immutability.\n",
    "\n",
    "##### Complexity:\n",
    "O(n²) worst case because concatenation rebuilds a new string per loop iteration.\n",
    "\n",
    "##### Robustness:\n",
    "Works for any text and mapping. Handles mixed case (but only replaces lowercase).\n",
    "Could use type hints, .get() for safer dictionary access, and a more efficient concatenation method.\n",
    "\n",
    "##### Readability:\n",
    "Clear and simple. Adding docstring and PEP 8 formatting improves professionalism.\n",
    "\n",
    "##### Faithfulness:\n",
    "The function applies substitution logic similar in spirit to .replace() from Lecture 1 (Strings) but uses manual iteration and mapping instead. This approach reflects understanding of string immutability and efficient replacement strategies discussed in the lessons."
   ]
  },
  {
   "cell_type": "markdown",
   "id": "532578a1-9efb-4cd4-abdc-a1736b93d492",
   "metadata": {},
   "source": [
    "### Improved Code"
   ]
  },
  {
   "cell_type": "code",
   "execution_count": 15,
   "id": "66880437-98e6-4c97-a7cd-4926c22c03ac",
   "metadata": {},
   "outputs": [
    {
     "name": "stdout",
     "output_type": "stream",
     "text": [
      "L337 5p34k 7357\n",
      "A 51mpl3 57r1ng.\n",
      "Py7h0n 15 c00l!\n",
      "\n"
     ]
    }
   ],
   "source": [
    "def translate(text: str, mapping: dict[str, str]) -> str:\n",
    "    result_chars = []\n",
    "    for ch in text:\n",
    "        result_chars.append(mapping.get(ch, ch))\n",
    "    return \"\".join(result_chars)\n",
    "\n",
    "leet_map = {'a': '4', 'e': '3', 'i': '1', 'o': '0', 's': '5', 't': '7'}\n",
    "print(translate(\"Leet speak test\", leet_map))\n",
    "print(translate(\"A simple string.\", leet_map))\n",
    "print(translate(\"Python is cool!\", leet_map))\n",
    "print(translate(\"\", leet_map))"
   ]
  },
  {
   "cell_type": "markdown",
   "id": "3510f809-47d7-4f96-b63b-63cd6411e64b",
   "metadata": {
    "jp-MarkdownHeadingCollapsed": true
   },
   "source": [
    "# Q3\n",
    "### Currency Formatter & Rounding Ties-to-Even. \n",
    "Write fmt_money(x: float) -> str that returns a string like 1,234.50 using proper rounding (banker’s round- ing / ties-to-even). Include test cases that demonstrate ties (e.g., 2.5, 3.5). Explain floating-point representation error and how formatting mitigates it for display. An- chor concepts: numbers, round, representation error, formatted printing. Reference::contentReference[oaicite:8]index=8\n"
   ]
  },
  {
   "cell_type": "markdown",
   "id": "4d9b0a55-792f-47ad-9768-d9411ff42fc9",
   "metadata": {},
   "source": [
    "### Prompt\n",
    "Write fmt_money(x: float) -> str that returns a string like 1,234.50 using proper rounding (banker’s round- ing / ties-to-even). Include test cases that demonstrate ties (e.g., 2.5, 3.5). Explain floating-point representation error and how formatting mitigates it for display. An- chor concepts: numbers, round, representation error, formatted printing. "
   ]
  },
  {
   "cell_type": "markdown",
   "id": "622b94ac-b413-49e0-a290-1bf17d6f9776",
   "metadata": {},
   "source": [
    "### ChatGPT Code"
   ]
  },
  {
   "cell_type": "code",
   "execution_count": 15,
   "id": "958bfb10-67fb-4854-82e7-fc058fad480c",
   "metadata": {},
   "outputs": [
    {
     "name": "stdout",
     "output_type": "stream",
     "text": [
      "1,234.50\n",
      "2.50\n",
      "3.50\n"
     ]
    }
   ],
   "source": [
    "def fmt_money(x):\n",
    "    return f\"{round(x, 2):,.2f}\"\n",
    "\n",
    "print(fmt_money(1234.5))\n",
    "print(fmt_money(2.5))\n",
    "print(fmt_money(3.5))"
   ]
  },
  {
   "cell_type": "markdown",
   "id": "36cc0b04-4865-4286-a5c1-9b0121be313d",
   "metadata": {},
   "source": [
    "### Critique\n",
    "##### Correctness:\n",
    "The function produces formatted currency strings with comma separators and two decimal places.\n",
    "round() in Python already implements banker’s rounding (ties-to-even), so 2.5 -> 2.0 and 3.5 -> 4.0.\n",
    "\n",
    "##### Complexity:\n",
    "O(1) only a constant-time rounding and formatting operation.\n",
    "\n",
    "##### Robustness:\n",
    "Works for positive and negative floats, large values, and zero.\n",
    "Could include type hints, docstring, and additional tests for very small or large numbers.\n",
    "\n",
    "##### Readability:\n",
    "Clear and concise. Adding explicit type hints, a docstring, and descriptive variable naming improves professionalism.\n",
    "\n",
    "##### Faithfulness:\n",
    "Fully aligns with Lecture 2, which discusses round() and ties-to-even rounding. It also reflects awareness of floating-point representation error, where binary floating-point cannot exactly represent all decimal fractions. Formatting with f\"{x:,.2f}\" mitigates this by rounding to a fixed number of decimal places for human-readable display."
   ]
  },
  {
   "cell_type": "markdown",
   "id": "4d3c5346-1a85-49a3-ae51-9eafefd63b90",
   "metadata": {},
   "source": [
    "### Improved Code"
   ]
  },
  {
   "cell_type": "code",
   "execution_count": 16,
   "id": "e07a708d-4eb0-47ce-afd8-a1512006dbc4",
   "metadata": {},
   "outputs": [
    {
     "name": "stdout",
     "output_type": "stream",
     "text": [
      "1,234.50\n",
      "2.50\n",
      "3.50\n",
      "1,000,000.23\n",
      "-45.67\n"
     ]
    }
   ],
   "source": [
    "def fmt_money(x: float) -> str:\n",
    "    rounded_value = round(x, 2)\n",
    "    return f\"{rounded_value:,.2f}\"\n",
    "\n",
    "print(fmt_money(1234.5))\n",
    "print(fmt_money(2.5))\n",
    "print(fmt_money(3.5))\n",
    "print(fmt_money(1000000.235))\n",
    "print(fmt_money(-45.675))"
   ]
  },
  {
   "cell_type": "markdown",
   "id": "c0d1e161-90f2-4d27-a57e-e8bcd3e49285",
   "metadata": {
    "jp-MarkdownHeadingCollapsed": true
   },
   "source": [
    "# Q4\n",
    "### Exponent Tool & Input Validation.\n",
    "Create a CLI program exponent.py that reads two values, validates they are numeric, handles errors gracefully (e.g., ValueError), and prints a ** b with clear messages. Compare using try/except vs. pre-validation with str.isdigit() (and why isdigit() is insufficient for negatives/floats). An- chor concepts: arithmetic operators, exceptions, input. Reference: :contentRefer- ence[oaicite:9]index=9, :contentReference[oaicite:10]index=10"
   ]
  },
  {
   "cell_type": "markdown",
   "id": "48104e55-6b27-4806-9a20-9767870be59c",
   "metadata": {},
   "source": [
    "### Prompt\n",
    "Create a CLI program exponent.py that reads two values, validates they are numeric, handles errors gracefully (e.g., ValueError), and prints a ** b with clear messages. Compare using try/except vs. pre-validation with str.isdigit() (and why isdigit() is insufficient for negatives/floats). An- chor concepts: arithmetic operators, exceptions, input. "
   ]
  },
  {
   "cell_type": "markdown",
   "id": "0aa75ccd-7338-4580-80c0-bbfc8f57f53a",
   "metadata": {},
   "source": [
    "### ChatGPT Code"
   ]
  },
  {
   "cell_type": "code",
   "execution_count": 16,
   "id": "00a6d7a1-91ae-4ac1-b1ec-ab8a3213d226",
   "metadata": {},
   "outputs": [
    {
     "name": "stdin",
     "output_type": "stream",
     "text": [
      "Enter base:  4\n",
      "Enter exponent:  3\n"
     ]
    },
    {
     "name": "stdout",
     "output_type": "stream",
     "text": [
      "Result: 64.0\n"
     ]
    }
   ],
   "source": [
    "a = input(\"Enter base: \")\n",
    "b = input(\"Enter exponent: \")\n",
    "\n",
    "if a.isdigit() and b.isdigit():\n",
    "    print(f\"Result: {float(a) ** float(b)}\")\n",
    "else:\n",
    "    print(\"Invalid input. Please enter numbers only.\")"
   ]
  },
  {
   "cell_type": "markdown",
   "id": "88f5424e-0cb9-43a6-aaf6-bbddb08c3535",
   "metadata": {},
   "source": [
    "### Critique\n",
    "##### Correctness:\n",
    "Works only for positive integers since .isdigit() returns False for negative numbers and floats (e.g., -2 or 3.5). So while it avoids crashes, it fails to handle valid numeric cases.\n",
    "\n",
    "##### Complexity: \n",
    "O(1) time — simple input/output and power computation.\n",
    "\n",
    "##### Robustness:\n",
    "Not robust against non-numeric input. Should use try/except with float() conversion.\n",
    "\n",
    "##### Readability:\n",
    "Clear enough, but messages can be improved; lacks modular structure (should use a function).\n",
    "\n",
    "##### Faithfulness:\n",
    "Refers correctly to arithmetic operators (**), but partial coverage of error handling, and some are aligned with Lecture 4’s try/except examples."
   ]
  },
  {
   "cell_type": "markdown",
   "id": "cdcbbfe9-4dd3-4587-b755-0cc6f099d427",
   "metadata": {},
   "source": [
    "### Improved Code\n"
   ]
  },
  {
   "cell_type": "code",
   "execution_count": 17,
   "id": "8249e70d-d937-42b1-bd13-51f16c1d88aa",
   "metadata": {},
   "outputs": [
    {
     "name": "stdin",
     "output_type": "stream",
     "text": [
      "Enter base number:  2\n",
      "Enter exponent:  3\n"
     ]
    },
    {
     "name": "stdout",
     "output_type": "stream",
     "text": [
      "\n",
      "Result: 2.0 ** 3.0 = 8.0\n",
      "\n"
     ]
    }
   ],
   "source": [
    "def exponent_tool():\n",
    "    try:\n",
    "        a = float(input(\"Enter base number: \"))\n",
    "        b = float(input(\"Enter exponent: \"))\n",
    "        result = a ** b\n",
    "        print(f\"\\nResult: {a} ** {b} = {result}\\n\")\n",
    "    except ValueError:\n",
    "        print(\"\\nInvalid input. Please enter numeric values only.\\n\")\n",
    "\n",
    "exponent_tool()"
   ]
  },
  {
   "cell_type": "markdown",
   "id": "d13ef33a-652c-45fe-8e99-b5235ea64659",
   "metadata": {
    "jp-MarkdownHeadingCollapsed": true
   },
   "source": [
    "# Q5\n",
    "### Password Policy Checker (If/Elif/Else + Loops).\n",
    "Implement check_password(pw: str) -> dict that validates: length ≥ 10, at least one uppercase, one lowercase, one digit, one symbol in !@#$%^&*, and no spaces. Return a dict of booleans per rule and an overall pass/fail. Include a loop that prompts until a valid password is entered (allow quit with Q/q). Anchor concepts: conditionals, logical operators, loops, break/continue. Reference: :contentReference[oaicite:11]index=11"
   ]
  },
  {
   "cell_type": "markdown",
   "id": "389c1c54-48d2-4d82-a606-804d49c28807",
   "metadata": {},
   "source": [
    "### Prompt\n",
    "Implement check_password(pw: str) -> dict that validates: length ≥ 10, at least one uppercase, one lowercase, one digit, one symbol in !@#$%^&*, and no spaces. Return a dict of booleans per rule and an overall pass/fail. Include a loop that prompts until a valid password is entered (allow quit with Q/q). Anchor concepts: conditionals, logical operators, loops, break/continue."
   ]
  },
  {
   "cell_type": "markdown",
   "id": "be555ee9-9140-4973-95a9-178d7c03f941",
   "metadata": {},
   "source": [
    "### ChatGPT Code"
   ]
  },
  {
   "cell_type": "code",
   "execution_count": 22,
   "id": "fa9cf2dd-5c35-41d6-96b2-2ca61b643abb",
   "metadata": {},
   "outputs": [
    {
     "name": "stdin",
     "output_type": "stream",
     "text": [
      "Enter password (Q to quit):  Lance\n"
     ]
    },
    {
     "name": "stdout",
     "output_type": "stream",
     "text": [
      "{'length': False, 'upper': True, 'lower': True, 'digit': False, 'symbol': False, 'space': True, 'valid': False}\n",
      "Try again.\n"
     ]
    },
    {
     "name": "stdin",
     "output_type": "stream",
     "text": [
      "Enter password (Q to quit):  Lance123456@\n"
     ]
    },
    {
     "name": "stdout",
     "output_type": "stream",
     "text": [
      "{'length': True, 'upper': True, 'lower': True, 'digit': True, 'symbol': True, 'space': True, 'valid': True}\n",
      "Password accepted.\n"
     ]
    }
   ],
   "source": [
    "def check_password(pw):\n",
    "    result = {\n",
    "        \"length\": len(pw) >= 10,\n",
    "        \"upper\": any(c.isupper() for c in pw),\n",
    "        \"lower\": any(c.islower() for c in pw),\n",
    "        \"digit\": any(c.isdigit() for c in pw),\n",
    "        \"symbol\": any(c in \"!@#$%^&*\" for c in pw),\n",
    "        \"space\": \" \" not in pw\n",
    "    }\n",
    "    result[\"valid\"] = all(result.values())\n",
    "    return result\n",
    "\n",
    "while True:\n",
    "    pw = input(\"Enter password (Q to quit): \")\n",
    "    if pw.lower() == \"q\":\n",
    "        break\n",
    "    r = check_password(pw)\n",
    "    print(r)\n",
    "    if r[\"valid\"]:\n",
    "        print(\"Password accepted.\")\n",
    "        break\n",
    "    else:\n",
    "        print(\"Try again.\")"
   ]
  },
  {
   "cell_type": "markdown",
   "id": "7cd2c135-d593-470c-a025-c7461f435bde",
   "metadata": {},
   "source": [
    "### Critique\n",
    "##### Correctness: \n",
    "Functionally correct, it checks all requirements and loops until a valid password or quit signal. The dictionary structure makes feedback clear.\n",
    "\n",
    "##### Complexity: \n",
    "O(n) time (single pass through the string), O(1) space, optimal for validation tasks.\n",
    "\n",
    "##### Robustness: \n",
    "Works for empty strings, spaces, and various character mixes. Could enhance user feedback (show which rule failed).\n",
    "\n",
    "##### Readability: \n",
    "Readable but can improve naming (result -> rules), add docstring, and provide clearer print formatting.\n",
    "\n",
    "##### Faithfulness: \n",
    "Fully aligns with Lecture 4’s topics — uses if/elif/else, logical operators, loops, and break/continue properly."
   ]
  },
  {
   "cell_type": "markdown",
   "id": "e5b7437f-0422-41c3-b7c0-4cf8c47f68af",
   "metadata": {},
   "source": [
    "### Improved Code"
   ]
  },
  {
   "cell_type": "code",
   "execution_count": 21,
   "id": "f61dcd2c-feff-49ee-933b-5288f086d0e3",
   "metadata": {},
   "outputs": [
    {
     "name": "stdin",
     "output_type": "stream",
     "text": [
      "Enter password (Q to quit):  Lance\n"
     ]
    },
    {
     "name": "stdout",
     "output_type": "stream",
     "text": [
      "\n",
      "Password Check Results:\n",
      "  length    : Fail\n",
      "  upper     : Pass\n",
      "  lower     : Pass\n",
      "  digit     : Fail\n",
      "  symbol    : Fail\n",
      "  no_space  : Pass\n",
      "\n",
      "Password does not meet all criteria. Try again.\n",
      "\n"
     ]
    },
    {
     "name": "stdin",
     "output_type": "stream",
     "text": [
      "Enter password (Q to quit):  Lance@123\n"
     ]
    },
    {
     "name": "stdout",
     "output_type": "stream",
     "text": [
      "\n",
      "Password Check Results:\n",
      "  length    : Fail\n",
      "  upper     : Pass\n",
      "  lower     : Pass\n",
      "  digit     : Pass\n",
      "  symbol    : Pass\n",
      "  no_space  : Pass\n",
      "\n",
      "Password does not meet all criteria. Try again.\n",
      "\n"
     ]
    },
    {
     "name": "stdin",
     "output_type": "stream",
     "text": [
      "Enter password (Q to quit):  Lance@123456\n"
     ]
    },
    {
     "name": "stdout",
     "output_type": "stream",
     "text": [
      "\n",
      "Password Check Results:\n",
      "  length    : Pass\n",
      "  upper     : Pass\n",
      "  lower     : Pass\n",
      "  digit     : Pass\n",
      "  symbol    : Pass\n",
      "  no_space  : Pass\n",
      "\n",
      "Password accepted!\n"
     ]
    }
   ],
   "source": [
    "def check_password(pw: str) -> dict:\n",
    "    rules = {\n",
    "        \"length\": len(pw) >= 10,\n",
    "        \"upper\": any(ch.isupper() for ch in pw),\n",
    "        \"lower\": any(ch.islower() for ch in pw),\n",
    "        \"digit\": any(ch.isdigit() for ch in pw),\n",
    "        \"symbol\": any(ch in \"!@#$%^&*\" for ch in pw),\n",
    "        \"no_space\": \" \" not in pw\n",
    "    }\n",
    "    rules[\"valid\"] = all(rules.values())\n",
    "    return rules\n",
    "\n",
    "\n",
    "\n",
    "while True:\n",
    "    pw = input(\"Enter password (Q to quit): \")\n",
    "    if pw.lower() == \"q\":\n",
    "        print(\"Goodbye!\")\n",
    "        break\n",
    "\n",
    "    result = check_password(pw)\n",
    "\n",
    "    # Display detailed results\n",
    "    print(\"\\nPassword Check Results:\")\n",
    "    for rule, passed in result.items():\n",
    "        if rule != \"valid\":\n",
    "            print(f\"  {rule:10}: {'Pass' if passed else 'Fail'}\")\n",
    "\n",
    "    if result[\"valid\"]:\n",
    "        print(\"\\nPassword accepted!\")\n",
    "        break\n",
    "    else:\n",
    "        print(\"\\nPassword does not meet all criteria. Try again.\\n\")\n",
    "        continue\n"
   ]
  },
  {
   "cell_type": "markdown",
   "id": "13badc90-0f75-485e-9fa9-209cb0072fd9",
   "metadata": {
    "jp-MarkdownHeadingCollapsed": true
   },
   "source": [
    "# Q6\n",
    "### Dice Simulation (Monte Carlo). \n",
    "Write roll() -> int to simulate a fair die, then simulate 100,000 rolls to estimate the probability that the sum of two dice equals 7. Compare empirical result to the exact probability. Comment on random seeding and reproducibility. Anchor concepts: random module, simulation, averages. Reference: :contentReference[oaicite:12]index=12"
   ]
  },
  {
   "cell_type": "markdown",
   "id": "6b2c6fa2-c32f-4e6f-a55e-6016e892d584",
   "metadata": {},
   "source": [
    "### Prompt\n",
    "Write roll() -> int to simulate a fair die, then simulate 100,000 rolls to estimate the probability that the sum of two dice equals 7. Compare empirical result to the exact probability. Comment on random seeding and reproducibility. "
   ]
  },
  {
   "cell_type": "markdown",
   "id": "c43eac65-efd0-4a4f-b1cb-e9cc5b52a480",
   "metadata": {},
   "source": [
    "### ChatGPT Code"
   ]
  },
  {
   "cell_type": "code",
   "execution_count": 23,
   "id": "5e2cd237-0f76-4525-a4ac-9b92272d5e3e",
   "metadata": {},
   "outputs": [
    {
     "name": "stdout",
     "output_type": "stream",
     "text": [
      "Estimated Probability: 0.16622\n",
      "Exact Probability: 0.16666666666666666\n"
     ]
    }
   ],
   "source": [
    "import random\n",
    "\n",
    "def roll():\n",
    "    return random.randint(1, 6)\n",
    "\n",
    "trials = 100000\n",
    "count = 0\n",
    "\n",
    "for _ in range(trials):\n",
    "    if roll() + roll() == 7:\n",
    "        count += 1\n",
    "\n",
    "print(\"Estimated Probability:\", count / trials)\n",
    "print(\"Exact Probability:\", 1/6)"
   ]
  },
  {
   "cell_type": "markdown",
   "id": "b30a4f63-f33b-4dd5-a123-40a5feddc744",
   "metadata": {},
   "source": [
    "### Critique\n",
    "##### Correctness: \n",
    "Correctly simulates fair dice and estimates P(sum = 7). The logic is valid, and random.randint(1, 6) generates uniform outcomes.\n",
    "\n",
    "##### Complexity: \n",
    "O(n) time where n = number of trials (100,000). Space complexity O(1).\n",
    "\n",
    "##### Robustness: \n",
    "Works as intended, but lacks seeding and encapsulation into functions.\n",
    "\n",
    "##### Readability: \n",
    "Simple, but should add docstrings, consistent formatting, and variable naming.\n",
    "\n",
    "##### Faithfulness: \n",
    "Matches Lecture 4’s random module usage and Lecture 3’s loop concepts. Could also demonstrate reproducibility using random.seed()."
   ]
  },
  {
   "cell_type": "markdown",
   "id": "0be49f5b-07b2-470b-a952-1d4457b64039",
   "metadata": {},
   "source": [
    "### Improved Code"
   ]
  },
  {
   "cell_type": "code",
   "execution_count": 24,
   "id": "b92e8ca8-5c08-490f-937e-31a53a0b9da5",
   "metadata": {},
   "outputs": [
    {
     "name": "stdout",
     "output_type": "stream",
     "text": [
      "Simulated trials: 100000\n",
      "Empirical Probability (sum=7): 0.16456\n",
      "Theoretical Probability (1/6): 0.16667\n",
      "Difference: 0.00211\n"
     ]
    }
   ],
   "source": [
    "import random\n",
    "\n",
    "def roll() -> int:\n",
    "    return random.randint(1, 6)\n",
    "\n",
    "def simulate_dice(trials: int = 100_000) -> float:\n",
    "    count = 0\n",
    "    for _ in range(trials):\n",
    "        total = roll() + roll()\n",
    "        if total == 7:\n",
    "            count += 1\n",
    "    return count / trials\n",
    "\n",
    "random.seed(42)  # ensures reproducible results\n",
    "trials = 100_000\n",
    "empirical = simulate_dice(trials)\n",
    "theoretical = 1 / 6\n",
    "\n",
    "print(f\"Simulated trials: {trials}\")\n",
    "print(f\"Empirical Probability (sum=7): {empirical:.5f}\")\n",
    "print(f\"Theoretical Probability (1/6): {theoretical:.5f}\")\n",
    "print(f\"Difference: {abs(empirical - theoretical):.5f}\")\n"
   ]
  },
  {
   "cell_type": "markdown",
   "id": "6db03b82-6d95-40c9-9b0f-bb5c6c0abc0f",
   "metadata": {
    "jp-MarkdownHeadingCollapsed": true
   },
   "source": [
    "# Q7\n",
    "### OOP: Vehicles with Odometer and Fuel.\n",
    "Design classes Vehicle (base), Car and Truck (children). Each has color, mileage, and fuel_liters. Provide drive(km, km_per_liter) which increments mileage and decreases fuel (never be- low 0) and refuel(liters).  Show how inheritance avoids duplication and add a method override in Truck (e.g., different efficiency). Include a minimal test script. Anchor concepts: classes vs. instances, attributes, instance methods, in- heritance/override. Reference: :contentReference[oaicite:13]index=13"
   ]
  },
  {
   "cell_type": "markdown",
   "id": "3ddc8a8b-6d00-4b21-bdad-504655896738",
   "metadata": {},
   "source": [
    "### Prompt\n",
    "Design classes Vehicle (base), Car and Truck (children). Each has color, mileage, and fuel_liters. Provide drive(km, km_per_liter) which increments mileage and decreases fuel (never be- low 0) and refuel(liters).  Show how inheritance avoids duplication and add a method override in Truck (e.g., different efficiency). Include a minimal test script. Anchor concepts: classes vs. instances, attributes, instance methods, in- heritance/override. "
   ]
  },
  {
   "cell_type": "markdown",
   "id": "da5bc138-d0b0-4288-851e-f0f6eeadad8b",
   "metadata": {},
   "source": [
    "### ChatGPT Code"
   ]
  },
  {
   "cell_type": "code",
   "execution_count": 26,
   "id": "bf2d29cb-7bc6-47ad-b79f-5136230005dd",
   "metadata": {},
   "outputs": [
    {
     "name": "stdout",
     "output_type": "stream",
     "text": [
      "20100 30.0\n",
      "50100 109.0\n"
     ]
    }
   ],
   "source": [
    "class Vehicle:\n",
    "    def __init__(self, color, mileage, fuel_liters):\n",
    "        self.color = color\n",
    "        self.mileage = mileage\n",
    "        self.fuel_liters = fuel_liters\n",
    "\n",
    "    def drive(self, km, km_per_liter):\n",
    "        fuel_used = km / km_per_liter\n",
    "        self.mileage += km\n",
    "        self.fuel_liters = max(0, self.fuel_liters - fuel_used)\n",
    "\n",
    "    def refuel(self, liters):\n",
    "        self.fuel_liters += liters\n",
    "\n",
    "class Car(Vehicle):\n",
    "    pass\n",
    "\n",
    "class Truck(Vehicle):\n",
    "    def drive(self, km, km_per_liter):\n",
    "        # Trucks are less fuel efficient (10% more fuel used)\n",
    "        fuel_used = (km / km_per_liter) * 1.1\n",
    "        self.mileage += km\n",
    "        self.fuel_liters = max(0, self.fuel_liters - fuel_used)\n",
    "\n",
    "car = Car(\"red\", 20000, 40)\n",
    "truck = Truck(\"blue\", 50000, 120)\n",
    "\n",
    "car.drive(100, 10)\n",
    "truck.drive(100, 10)\n",
    "\n",
    "print(car.mileage, car.fuel_liters)\n",
    "print(truck.mileage, truck.fuel_liters)"
   ]
  },
  {
   "cell_type": "markdown",
   "id": "335e700a-e1a9-475f-99e0-1cf0b8afae0f",
   "metadata": {},
   "source": [
    "### Critique\n",
    "##### Correctness: \n",
    "Functionally correct, shows class creation, inheritance, and method overriding properly. Both drive() and refuel() behave as described.\n",
    "\n",
    "##### Complexity: \n",
    "O(1) operations, simple arithmetic updates per call.\n",
    "\n",
    "##### Robustness: \n",
    "Does not handle invalid input (negative kilometers or liters), but sufficient for demonstration.\n",
    "\n",
    "##### Readability: \n",
    "Clear structure, but could benefit from docstrings and formatted output for clarity.\n",
    "\n",
    "##### Faithfulness: \n",
    "Perfectly aligned with Lecture 6, demonstrates class definition, attributes, methods, inheritance, and overriding methods."
   ]
  },
  {
   "cell_type": "markdown",
   "id": "6f28590d-48d0-44dd-89ac-62860d9c5c7d",
   "metadata": {
    "jp-MarkdownHeadingCollapsed": true
   },
   "source": [
    "### Improved Code"
   ]
  },
  {
   "cell_type": "code",
   "execution_count": 13,
   "id": "f97d0b64-248c-4c2b-b84e-bca12a9a1cc0",
   "metadata": {},
   "outputs": [
    {
     "name": "stdout",
     "output_type": "stream",
     "text": [
      "Initial states:\n",
      "Car(red, mileage=20000.0, fuel=40.0L)\n",
      "Truck(blue, mileage=50000.0, fuel=120.0L)\n",
      "\n",
      "Driving 100 km each (10 km/L efficiency):\n",
      "Car(red, mileage=20100.0, fuel=30.0L)\n",
      "Truck(blue, mileage=50100.0, fuel=109.0L)\n",
      "\n",
      "Refueling both vehicles:\n",
      "Car(red, mileage=20100.0, fuel=40.0L)\n",
      "Truck(blue, mileage=50100.0, fuel=159.0L)\n"
     ]
    }
   ],
   "source": [
    "class Vehicle:\n",
    "    def __init__(self, color: str, mileage: float, fuel_liters: float):\n",
    "        self.color = color\n",
    "        self.mileage = mileage\n",
    "        self.fuel_liters = fuel_liters\n",
    "\n",
    "    def drive(self, km: float, km_per_liter: float) -> None:\n",
    "        fuel_used = km / km_per_liter\n",
    "        self.mileage += km\n",
    "        self.fuel_liters = max(0, self.fuel_liters - fuel_used)\n",
    "\n",
    "    def refuel(self, liters: float) -> None:\n",
    "       # Add fuel to the vehicle.\n",
    "        self.fuel_liters += liters\n",
    "\n",
    "    def __str__(self):\n",
    "        return f\"{self.__class__.__name__}({self.color}, mileage={self.mileage:.1f}, fuel={self.fuel_liters:.1f}L)\"\n",
    "\n",
    "\n",
    "class Car(Vehicle):\n",
    "    # Child class inheriting from Vehicle.\n",
    "    pass\n",
    "\n",
    "\n",
    "class Truck(Vehicle):\n",
    "    def drive(self, km: float, km_per_liter: float) -> None:\n",
    "        fuel_used = (km / km_per_liter) * 1.1\n",
    "        self.mileage += km\n",
    "        self.fuel_liters = max(0, self.fuel_liters - fuel_used)\n",
    "\n",
    "\n",
    "\n",
    "car = Car(\"red\", 20000, 40)\n",
    "truck = Truck(\"blue\", 50000, 120)\n",
    "\n",
    "print(\"Initial states:\")\n",
    "print(car)\n",
    "print(truck)\n",
    "\n",
    "print(\"\\nDriving 100 km each (10 km/L efficiency):\")\n",
    "car.drive(100, 10)\n",
    "truck.drive(100, 10)\n",
    "\n",
    "print(car)\n",
    "print(truck)\n",
    "\n",
    "print(\"\\nRefueling both vehicles:\")\n",
    "car.refuel(10)\n",
    "truck.refuel(50)\n",
    "\n",
    "print(car)\n",
    "print(truck)"
   ]
  },
  {
   "cell_type": "markdown",
   "id": "acf4e219-5828-4ee2-8cf0-6729fba5b606",
   "metadata": {
    "jp-MarkdownHeadingCollapsed": true
   },
   "source": [
    "# Q8\n",
    "### OOP + Composition: Kennel with Dogs.\n",
    "Using a Dog class (name, age, breed, bark()), implement a Kennel manager that holds multiple Dog instances, supports add_dog, remove_dog, oldest_dog(), and find_by_breed(breed). Compare com- position vs. inheritance for this scenario. Anchor concepts: OOP design, managing collections of objects. Reference: :contentReference[oaicite:14]index=14"
   ]
  },
  {
   "cell_type": "markdown",
   "id": "c4cafffb-01ea-4c61-99d9-8f35c3c2a566",
   "metadata": {},
   "source": [
    "### Prompt\n",
    "Using a Dog class (name, age, breed, bark()), implement a Kennel manager that holds multiple Dog instances, supports add_dog, remove_dog, oldest_dog(), and find_by_breed(breed). Compare com- position vs. inheritance for this scenario."
   ]
  },
  {
   "cell_type": "markdown",
   "id": "e994fa31-b9fe-4711-80d9-e4170137d4c9",
   "metadata": {},
   "source": [
    "### ChatGPT Code"
   ]
  },
  {
   "cell_type": "code",
   "execution_count": 27,
   "id": "f9108c48-b4a4-4d78-9c86-a0664a80e347",
   "metadata": {},
   "outputs": [
    {
     "name": "stdout",
     "output_type": "stream",
     "text": [
      "Rocky\n",
      "Max\n",
      "Rocky\n"
     ]
    }
   ],
   "source": [
    "class Dog:\n",
    "    def __init__(self, name, age, breed):\n",
    "        self.name = name\n",
    "        self.age = age\n",
    "        self.breed = breed\n",
    "\n",
    "    def bark(self):\n",
    "        print(f\"{self.name} says woof!\")\n",
    "\n",
    "class Kennel:\n",
    "    def __init__(self):\n",
    "        self.dogs = []\n",
    "\n",
    "    def add_dog(self, dog):\n",
    "        self.dogs.append(dog)\n",
    "\n",
    "    def remove_dog(self, name):\n",
    "        self.dogs = [d for d in self.dogs if d.name != name]\n",
    "\n",
    "    def oldest_dog(self):\n",
    "        return max(self.dogs, key=lambda d: d.age)\n",
    "\n",
    "    def find_by_breed(self, breed):\n",
    "        return [d for d in self.dogs if d.breed == breed]\n",
    "\n",
    "# Test\n",
    "k = Kennel()\n",
    "k.add_dog(Dog(\"Max\", 5, \"Beagle\"))\n",
    "k.add_dog(Dog(\"Bella\", 3, \"Labrador\"))\n",
    "k.add_dog(Dog(\"Rocky\", 8, \"Beagle\"))\n",
    "\n",
    "print(k.oldest_dog().name)\n",
    "for d in k.find_by_breed(\"Beagle\"):\n",
    "    print(d.name)"
   ]
  },
  {
   "cell_type": "markdown",
   "id": "c64a10b5-9b2a-4d94-97bb-bbd9e3c56fbe",
   "metadata": {},
   "source": [
    "### Critique\n",
    "##### Correctness:\n",
    "Works as expected, manages multiple Dog instances correctly. oldest_dog() uses max() with a key function, find_by_breed() filters accurately.\n",
    "\n",
    "##### Complexity: \n",
    "O(n) for searching and filtering, acceptable for small to medium collections.\n",
    "\n",
    "##### Robustness: \n",
    "Should handle empty kennel cases (e.g., when calling oldest_dog() on an empty list).\n",
    "\n",
    "##### Readability: \n",
    "Compact and clear; can benefit from type hints, docstrings, and formatted print outputs.\n",
    "\n",
    "##### Faithfulness: \n",
    "Demonstrates composition (Kennel has many Dogs), exactly as discussed in Lecture 6 under managing class relationships (like Farm animals example)."
   ]
  },
  {
   "cell_type": "markdown",
   "id": "bda7ab6b-857d-42c9-8f49-945ca4b17c2b",
   "metadata": {},
   "source": [
    "### Improved Code\n"
   ]
  },
  {
   "cell_type": "code",
   "execution_count": 29,
   "id": "01fc0f1e-b3c1-4f8c-ad45-abff86248b1e",
   "metadata": {},
   "outputs": [
    {
     "name": "stdout",
     "output_type": "stream",
     "text": [
      "All dogs in the kennel:\n",
      "Max (Beagle, 5 years old)\n",
      "Bella (Labrador, 3 years old)\n",
      "Rocky (Beagle, 8 years old)\n",
      "\n",
      "Oldest dog:\n",
      "Rocky (Beagle, 8 years old)\n",
      "\n",
      "Beagle breed dogs:\n",
      "Max (Beagle, 5 years old)\n",
      "Rocky (Beagle, 8 years old)\n",
      "\n",
      "Removing Bella...\n",
      "Max (Beagle, 5 years old)\n",
      "Rocky (Beagle, 8 years old)\n"
     ]
    }
   ],
   "source": [
    "class Dog:\n",
    "# Represents an individual dog with basic attributes. \n",
    "    def __init__(self, name: str, age: int, breed: str):\n",
    "        self.name = name\n",
    "        self.age = age\n",
    "        self.breed = breed\n",
    "\n",
    "    def bark(self) -> None:\n",
    "        print(f\"{self.name} says: Woof!\")\n",
    "\n",
    "    def __str__(self):\n",
    "        return f\"{self.name} ({self.breed}, {self.age} years old)\"\n",
    "\n",
    "\n",
    "class Kennel:\n",
    "   # Manages a collection of Dog objects using composition.\n",
    "    def __init__(self):\n",
    "        self.dogs: list[Dog] = []\n",
    "\n",
    "    def add_dog(self, dog: Dog) -> None:\n",
    "        self.dogs.append(dog)\n",
    "\n",
    "    def remove_dog(self, name: str) -> None:\n",
    "        self.dogs = [d for d in self.dogs if d.name.lower() != name.lower()]\n",
    "\n",
    "    def oldest_dog(self) -> Dog | None:\n",
    "        if not self.dogs:\n",
    "            return None\n",
    "        return max(self.dogs, key=lambda d: d.age)\n",
    "\n",
    "    def find_by_breed(self, breed: str) -> list[Dog]:\n",
    "        return [d for d in self.dogs if d.breed.lower() == breed.lower()]\n",
    "\n",
    "    def __str__(self):\n",
    "        if not self.dogs:\n",
    "            return \"Kennel is empty.\"\n",
    "        return \"\\n\".join(str(dog) for dog in self.dogs)\n",
    "\n",
    "kennel = Kennel()\n",
    "kennel.add_dog(Dog(\"Max\", 5, \"Beagle\"))\n",
    "kennel.add_dog(Dog(\"Bella\", 3, \"Labrador\"))\n",
    "kennel.add_dog(Dog(\"Rocky\", 8, \"Beagle\"))\n",
    "\n",
    "print(\"All dogs in the kennel:\")\n",
    "print(kennel)\n",
    "\n",
    "print(\"\\nOldest dog:\")\n",
    "oldest = kennel.oldest_dog()\n",
    "print(oldest if oldest else \"No dogs available.\")\n",
    "\n",
    "print(\"\\nBeagle breed dogs:\")\n",
    "for d in kennel.find_by_breed(\"Beagle\"):\n",
    "    print(d)\n",
    "\n",
    "print(\"\\nRemoving Bella...\")\n",
    "kennel.remove_dog(\"Bella\")\n",
    "print(kennel)\n"
   ]
  },
  {
   "cell_type": "markdown",
   "id": "2bee5897-1741-47a9-b25e-6b67e1998ac3",
   "metadata": {
    "jp-MarkdownHeadingCollapsed": true
   },
   "source": [
    "# Q9\n",
    "### Modules and Packages: Helpers.\n",
    "Create a package helpers/ with modules string_utils.py (function shout(s) uppercases) and math_utils.py (function area(l,w)). Then a main.py that imports with both import ...\tas ...\tand from ... import .... Explain namespace collisions and why aliases help. Anchor con- cepts: modules, packages, import variations, namespaces. Reference: :contentRe- ference[oaicite:15]index=15\n"
   ]
  },
  {
   "cell_type": "markdown",
   "id": "1ac1cf58-755d-4ff7-ab14-ff540d95959d",
   "metadata": {},
   "source": [
    "### Prompt\n",
    "Create a package helpers/ with modules string_utils.py (function shout(s) uppercases) and math_utils.py (function area(l,w)). Then a main.py that imports with both import ...\tas ...\tand from ... import .... Explain namespace collisions and why aliases help. "
   ]
  },
  {
   "cell_type": "markdown",
   "id": "97974bf0-82b3-45cd-92b6-51ecce965108",
   "metadata": {},
   "source": [
    "### ChatGPT Code"
   ]
  },
  {
   "cell_type": "code",
   "execution_count": 1,
   "id": "a57edebf-0392-499f-ae69-c10694d49b67",
   "metadata": {},
   "outputs": [
    {
     "name": "stdout",
     "output_type": "stream",
     "text": [
      "Shout test: HELLO WORLD\n",
      "Area test: 50\n"
     ]
    }
   ],
   "source": [
    "# Importing the whole module with alias\n",
    "from helpers.string_utils import shout\n",
    "\n",
    "# Importing a specific function directly\n",
    "from helpers.math_utils import area\n",
    "\n",
    "def main():\n",
    "    text = \"hello world\"\n",
    "    l, w = 5, 10\n",
    "\n",
    "    print(\"Shout test:\", shout(text))\n",
    "    print(\"Area test:\", area(l, w))\n",
    "\n",
    "if __name__ == \"__main__\":\n",
    "    main()\n"
   ]
  },
  {
   "cell_type": "markdown",
   "id": "3249873d-8c96-4507-b882-72f3b13c0939",
   "metadata": {},
   "source": [
    "### Critique\n",
    "##### Correctness: \n",
    "Functional correctly demonstrates both import variations and package structure.\n",
    "\n",
    "##### Complexity:\n",
    "Minimal and efficient. Each module has a single function for clarity.\n",
    "\n",
    "##### Robustness: \n",
    "Works in any standard Python package directory. __init__.py enables helpers/ as a package.\n",
    "\n",
    "##### Readability: \n",
    "Excellent; uses clear naming and consistent indentation.\n",
    "\n",
    "##### Faithfulness:\n",
    "Matches Lecture 7 content exactly demonstrates modular code, package imports, and namespaces."
   ]
  },
  {
   "cell_type": "markdown",
   "id": "8b1c2377-60f0-4540-bc3c-27cf9f40444f",
   "metadata": {},
   "source": [
    "### Improved Code"
   ]
  },
  {
   "cell_type": "code",
   "execution_count": 1,
   "id": "b36581ce-ab4d-4ae7-bb42-d3cc29246913",
   "metadata": {},
   "outputs": [
    {
     "name": "stdout",
     "output_type": "stream",
     "text": [
      "Using alias module import:\n",
      "Uppercase: COMPOSITION OVER INHERITANCE\n",
      "\n",
      "Using selective import:\n",
      "Area: 48\n"
     ]
    }
   ],
   "source": [
    "from helpers.string_utils import shout_improved\n",
    "from helpers.math_utils import area_improved\n",
    "\n",
    "def main():\n",
    "    message = \"composition over inheritance\"\n",
    "    length, width = 8, 6\n",
    "\n",
    "    print(\"Using alias module import:\")\n",
    "    print(\"Uppercase:\",shout_improved(message))\n",
    "\n",
    "    print(\"\\nUsing selective import:\")\n",
    "    print(\"Area:\", area_improved(length, width))\n",
    "\n",
    "main()\n"
   ]
  },
  {
   "cell_type": "markdown",
   "id": "40bd180e-3462-44dd-9b2c-e23729923bf5",
   "metadata": {
    "jp-MarkdownHeadingCollapsed": true
   },
   "source": [
    "# Q10\n",
    "### Robust Temperature Converter (Functions + Exceptions). \n",
    "Write two func- tions: cel_to_far(c) and far_to_cel(f) with type hints and docstrings. Build a CLI that asks the user which direction to convert and validates input (gracefully handles bad entries). Include unit tests (doctest or simple asserts) covering typicaland edge cases (e.g., -40). Anchor concepts: writing functions, control flow, input handling, testing.\n"
   ]
  },
  {
   "cell_type": "markdown",
   "id": "fdbfd7f4-1a8e-43bb-822f-ea33b0151fbc",
   "metadata": {},
   "source": [
    "### Prompt\n",
    "Write two func- tions: cel_to_far(c) and far_to_cel(f) with type hints and docstrings. Build a CLI that asks the user which direction to convert and validates input (gracefully handles bad entries). Include unit tests (doctest or simple asserts) covering typicaland edge cases (e.g., -40). Anchor concepts: writing functions, control flow, input handling, testing."
   ]
  },
  {
   "cell_type": "markdown",
   "id": "cf224d34-f618-40db-9868-60cdb24cf512",
   "metadata": {},
   "source": [
    "### ChatGPT Code"
   ]
  },
  {
   "cell_type": "code",
   "execution_count": 4,
   "id": "afae8071-43ce-47c7-aa84-b4f2578d0d70",
   "metadata": {},
   "outputs": [
    {
     "name": "stdin",
     "output_type": "stream",
     "text": [
      "Convert (C)elsius to Fahrenheit or (F)ahrenheit to Celsius?  c\n",
      "Enter the temperature value:  32\n"
     ]
    },
    {
     "name": "stdout",
     "output_type": "stream",
     "text": [
      "Result: 89.6 °F\n"
     ]
    }
   ],
   "source": [
    "def cel_to_far(c):\n",
    "    return (c * 9/5) + 32\n",
    "\n",
    "def far_to_cel(f):\n",
    "    return (f - 32) * 5/9\n",
    "\n",
    "try:\n",
    "    choice = input(\"Convert (C)elsius to Fahrenheit or (F)ahrenheit to Celsius? \").strip().lower()\n",
    "    value = float(input(\"Enter the temperature value: \"))\n",
    "    if choice == \"c\":\n",
    "        print(\"Result:\", cel_to_far(value), \"°F\")\n",
    "    elif choice == \"f\":\n",
    "        print(\"Result:\", far_to_cel(value), \"°C\")\n",
    "    else:\n",
    "        print(\"Invalid choice.\")\n",
    "except ValueError:\n",
    "    print(\"Please enter a valid number.\")"
   ]
  },
  {
   "cell_type": "markdown",
   "id": "af2317ff-928d-4666-9f32-c761baa02fb6",
   "metadata": {},
   "source": [
    "### Critique\n",
    "##### Correctness: \n",
    "Correct formula and logic for both conversions. Handles basic input with try/except.\n",
    "\n",
    "##### Complexity: \n",
    "O(1) per operation, minimal and efficient.\n",
    "\n",
    "##### Robustness: \n",
    "Handles numeric validation, but could add clearer structure, type hints, docstrings, and reusable test code.\n",
    "\n",
    "##### Readability:\n",
    "Simple but lacks documentation, spacing, and structured flow.\n",
    "\n",
    "##### Faithfulness: \n",
    "Matches Lecture 3–4 topics (functions, exception handling, and testing).\n",
    "Needs improvement in clarity, testing, and modularity for reusability."
   ]
  },
  {
   "cell_type": "markdown",
   "id": "260ce7e8-423d-4e07-bd2b-f578088664a1",
   "metadata": {},
   "source": [
    "### Improved Code"
   ]
  },
  {
   "cell_type": "code",
   "execution_count": 12,
   "id": "5c313576-294b-441d-a8e0-cc8c8d0382cc",
   "metadata": {},
   "outputs": [
    {
     "name": "stdout",
     "output_type": "stream",
     "text": [
      "Temperature Converter\n",
      "1. Celsius to Fahrenheit\n",
      "2. Fahrenheit to Celsius\n"
     ]
    },
    {
     "name": "stdin",
     "output_type": "stream",
     "text": [
      "Enter your choice (1/2):  1\n",
      "Enter temperature value:  23\n"
     ]
    },
    {
     "name": "stdout",
     "output_type": "stream",
     "text": [
      "23.0°C = 73.40°F\n",
      "\n",
      "Other Example:\n",
      "32.0 °F\n",
      "-40.0 °F\n",
      "212.0 °F\n",
      "0.0 °C\n",
      "-40.0 °C\n",
      "100.0 °C\n"
     ]
    }
   ],
   "source": [
    "def cel_to_far(c: float) -> float:\n",
    "    return (c * 9 / 5) + 32\n",
    "\n",
    "\n",
    "def far_to_cel(f: float) -> float:\n",
    "    return (f - 32) * 5 / 9\n",
    "\n",
    "\n",
    "def main() -> None:\n",
    "    # Simple CLI for temperature conversion with input validation.\n",
    "    print(\"Temperature Converter\")\n",
    "    print(\"1. Celsius to Fahrenheit\")\n",
    "    print(\"2. Fahrenheit to Celsius\")\n",
    "\n",
    "    choice = input(\"Enter your choice (1/2): \").strip()\n",
    "\n",
    "    try:\n",
    "        value = float(input(\"Enter temperature value: \"))\n",
    "\n",
    "        if choice == \"1\":\n",
    "            result = cel_to_far(value)\n",
    "            print(f\"{value}°C = {result:.2f}°F\")\n",
    "        elif choice == \"2\":\n",
    "            result = far_to_cel(value)\n",
    "            print(f\"{value}°F = {result:.2f}°C\")\n",
    "        else:\n",
    "            print(\"Invalid choice. Please enter 1 or 2.\")\n",
    "\n",
    "    except ValueError:\n",
    "        print(\"Error: Please enter a valid numeric value.\")\n",
    "\n",
    "main()\n",
    "print(\"\\nOther Example:\")\n",
    "print(cel_to_far(0),\"°F\")\n",
    "print(cel_to_far(-40),\"°F\")\n",
    "print(round(cel_to_far(100), 2),\"°F\")\n",
    "print(far_to_cel(32),\"°C\")\n",
    "print(far_to_cel(-40),\"°C\")\n",
    "print(round(far_to_cel(212), 2),\"°C\") \n",
    "\n"
   ]
  },
  {
   "cell_type": "code",
   "execution_count": null,
   "id": "b8b00b5a-efc7-4798-ad80-c4610ba0b4b5",
   "metadata": {},
   "outputs": [],
   "source": []
  }
 ],
 "metadata": {
  "kernelspec": {
   "display_name": "Python [conda env:base] *",
   "language": "python",
   "name": "conda-base-py"
  },
  "language_info": {
   "codemirror_mode": {
    "name": "ipython",
    "version": 3
   },
   "file_extension": ".py",
   "mimetype": "text/x-python",
   "name": "python",
   "nbconvert_exporter": "python",
   "pygments_lexer": "ipython3",
   "version": "3.13.5"
  }
 },
 "nbformat": 4,
 "nbformat_minor": 5
}
