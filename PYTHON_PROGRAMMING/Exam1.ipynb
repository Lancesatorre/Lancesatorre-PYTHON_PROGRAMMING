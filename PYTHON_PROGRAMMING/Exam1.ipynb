{
 "cells": [
  {
   "cell_type": "markdown",
   "id": "67c4b858-810c-48d8-8ee3-e68090029f8f",
   "metadata": {},
   "source": [
    "# 1st Long Exam Sept 10, 2025"
   ]
  },
  {
   "cell_type": "markdown",
   "id": "fb7093bf-e4fc-4d97-81a9-4a3f0e20b675",
   "metadata": {},
   "source": [
    "# Lance Timothy B. Satorre ID: 23765142"
   ]
  },
  {
   "cell_type": "markdown",
   "id": "96b6fcd4-2b42-4687-bb07-46f110cf82e6",
   "metadata": {},
   "source": [
    "Question 1"
   ]
  },
  {
   "cell_type": "code",
   "execution_count": 2,
   "id": "154f4565-0a84-4dab-bd1b-232d59178eb0",
   "metadata": {},
   "outputs": [
    {
     "name": "stdin",
     "output_type": "stream",
     "text": [
      "Enter your name:  LANCE\n"
     ]
    },
    {
     "name": "stdout",
     "output_type": "stream",
     "text": [
      "Hello lance\n"
     ]
    }
   ],
   "source": [
    "prompt = input(\"Enter your name: \")\n",
    "print(f\"Hello {prompt}\")"
   ]
  },
  {
   "cell_type": "markdown",
   "id": "ab9d2c46-3b9d-45dc-99f2-dbb604d3c81b",
   "metadata": {},
   "source": [
    "Question 2"
   ]
  },
  {
   "cell_type": "code",
   "execution_count": 3,
   "id": "259faf11-c42b-4881-af7a-83177c6cd38b",
   "metadata": {},
   "outputs": [
    {
     "name": "stdin",
     "output_type": "stream",
     "text": [
      "Enter a number:  3\n"
     ]
    },
    {
     "name": "stdout",
     "output_type": "stream",
     "text": [
      "Sum = 6.0\n"
     ]
    }
   ],
   "source": [
    "num = int(input(\"Enter a number: \"))\n",
    "n = abs(num)\n",
    "sums = n * (n + 1) / 2\n",
    "print(f\"Sum = {sums}\")"
   ]
  },
  {
   "cell_type": "code",
   "execution_count": 7,
   "id": "051af9c9-b1da-4309-84a8-4f7c13fac72f",
   "metadata": {},
   "outputs": [
    {
     "name": "stdin",
     "output_type": "stream",
     "text": [
      "Enter a letter:  y\n"
     ]
    },
    {
     "name": "stdout",
     "output_type": "stream",
     "text": [
      "Sometimes y is vowel, and sometimes y is constant\n"
     ]
    }
   ],
   "source": [
    "prompt = input(\"Enter a letter: \").lower()\n",
    "if prompt == \"a\" or prompt == \"e\" or prompt == \"i\" or prompt == \"o\" or prompt == \"u\":\n",
    "    print(\"You entered a vowel\")\n",
    "elif prompt == \"y\": print(\"Sometimes y is vowel, and sometimes y is constant\")\n",
    "else: print(\"You enterered a consonant\")"
   ]
  },
  {
   "cell_type": "code",
   "execution_count": 34,
   "id": "ffe80f4b-c93c-4f86-bc88-a07f6befb955",
   "metadata": {},
   "outputs": [
    {
     "name": "stdin",
     "output_type": "stream",
     "text": [
      "Enter a word:  lance\n"
     ]
    },
    {
     "name": "stdout",
     "output_type": "stream",
     "text": [
      "Its not a palindrome word\n"
     ]
    }
   ],
   "source": [
    "p = input(\"Enter a word: \")\n",
    "check = 0\n",
    "invert = []\n",
    "counter = len(p)\n",
    "for n in range(counter):\n",
    "    counter -= 1\n",
    "    invert[n] = p[counter]\n",
    "for c in range(counter):\n",
    "    if invert[c] == p[c]: check = 1\n",
    "    else:\n",
    "        check = 0\n",
    "        break;\n",
    "if check == 1: print(\"It's palindrome word\")\n",
    "else: print(\"Its not a palindrome word\")"
   ]
  },
  {
   "cell_type": "code",
   "execution_count": 36,
   "id": "836c91c3-16c4-4151-a897-0793f53ea607",
   "metadata": {},
   "outputs": [
    {
     "name": "stdin",
     "output_type": "stream",
     "text": [
      "Enter the first short side:  12\n",
      "Enter the second short side:  23\n"
     ]
    },
    {
     "name": "stdout",
     "output_type": "stream",
     "text": [
      "Result = 25.942243542145693\n"
     ]
    }
   ],
   "source": [
    "def hypotenuse(a,b):\n",
    "    h = (a**2 + b**2)**0.5\n",
    "    return h\n",
    "s1 = float(input(\"Enter the first short side: \"))\n",
    "s2 = float(input(\"Enter the second short side: \"))\n",
    "print(f\"Result = {hypotenuse(s1,s2)}\")"
   ]
  },
  {
   "cell_type": "code",
   "execution_count": null,
   "id": "eb091379-209a-430f-99d4-814d0f64f3bb",
   "metadata": {},
   "outputs": [],
   "source": []
  }
 ],
 "metadata": {
  "kernelspec": {
   "display_name": "Python 3 (ipykernel)",
   "language": "python",
   "name": "python3"
  },
  "language_info": {
   "codemirror_mode": {
    "name": "ipython",
    "version": 3
   },
   "file_extension": ".py",
   "mimetype": "text/x-python",
   "name": "python",
   "nbconvert_exporter": "python",
   "pygments_lexer": "ipython3",
   "version": "3.13.5"
  }
 },
 "nbformat": 4,
 "nbformat_minor": 5
}
