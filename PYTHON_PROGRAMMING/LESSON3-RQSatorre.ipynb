{
 "cells": [
  {
   "cell_type": "markdown",
   "id": "37273014-c29e-4e3d-8884-3082304142b2",
   "metadata": {},
   "source": [
    "# REVIEW QUESTION Page 8"
   ]
  },
  {
   "cell_type": "code",
   "execution_count": 34,
   "id": "0c3b62db-94bb-4a58-ade9-dbf8e572452e",
   "metadata": {},
   "outputs": [
    {
     "name": "stdout",
     "output_type": "stream",
     "text": [
      "27\n"
     ]
    }
   ],
   "source": [
    "def cub(num): return num ** 3\n",
    "print(cub(3))"
   ]
  },
  {
   "cell_type": "code",
   "execution_count": 35,
   "id": "81ce6372-8259-4852-a604-9dd17e757ee3",
   "metadata": {},
   "outputs": [
    {
     "name": "stdout",
     "output_type": "stream",
     "text": [
      "Hello Lance\n"
     ]
    }
   ],
   "source": [
    "def greet(name): print(f\"Hello {name}\")\n",
    "greet(\"Lance\")"
   ]
  },
  {
   "cell_type": "markdown",
   "id": "2827628d-c726-472b-ba5f-3a68dbd6ec6c",
   "metadata": {},
   "source": [
    "# REVIEW QUESTION Page 9"
   ]
  },
  {
   "cell_type": "code",
   "execution_count": 32,
   "id": "1b275d70-872a-4d5e-be09-fcdbeeaa6a74",
   "metadata": {},
   "outputs": [
    {
     "name": "stdin",
     "output_type": "stream",
     "text": [
      "Enter a temperature in degrees C:  37\n"
     ]
    },
    {
     "name": "stdout",
     "output_type": "stream",
     "text": [
      "37 degress C = 98.60 degrees F \n"
     ]
    }
   ],
   "source": [
    "# No .3\n",
    "def convert_cel_to_far(deg_Cel): return (float(deg_Cel) * 1.8) + 32\n",
    "    \n",
    "degCel_input = input(\"Enter a temperature in degrees C: \")\n",
    "print(f\"{degCel_input} degress C = {convert_cel_to_far(degCel_input):.2f} degrees F \")"
   ]
  },
  {
   "cell_type": "code",
   "execution_count": 31,
   "id": "73df0510-b373-4cb4-83b8-f6988da94ef5",
   "metadata": {},
   "outputs": [
    {
     "name": "stdin",
     "output_type": "stream",
     "text": [
      "Enter a temperature in degrees F:  72\n"
     ]
    },
    {
     "name": "stdout",
     "output_type": "stream",
     "text": [
      "72 degress F = 22.22 degrees C\n"
     ]
    }
   ],
   "source": [
    "# No. 2\n",
    "def convert_far_to_cel(deg_far): return (float(deg_far) - 32) / 1.8\n",
    "    \n",
    "degFar_input = input(\"Enter a temperature in degrees F: \")\n",
    "\n",
    "print(f\"{degFar_input} degress F = {convert_far_to_cel(degFar_input):.2f} degrees C\")    "
   ]
  },
  {
   "cell_type": "markdown",
   "id": "b07f693a-e334-42cb-ac49-2b31fe4cc40f",
   "metadata": {},
   "source": [
    "# REVIEW QUESTION Page 17"
   ]
  },
  {
   "cell_type": "code",
   "execution_count": 37,
   "id": "2a82fe89-5078-43ae-b56b-9a171a8f0718",
   "metadata": {},
   "outputs": [
    {
     "name": "stdout",
     "output_type": "stream",
     "text": [
      "2\n",
      "3\n",
      "4\n",
      "5\n",
      "6\n",
      "7\n",
      "8\n",
      "9\n"
     ]
    }
   ],
   "source": [
    "# No.1\n",
    "for i in range(2,10): print(i)"
   ]
  },
  {
   "cell_type": "code",
   "execution_count": 38,
   "id": "3b985d89-d405-4176-a6d7-07ea36b4ae25",
   "metadata": {},
   "outputs": [
    {
     "name": "stdout",
     "output_type": "stream",
     "text": [
      "2\n",
      "3\n",
      "4\n",
      "5\n",
      "6\n",
      "7\n",
      "8\n",
      "9\n"
     ]
    }
   ],
   "source": [
    "num = 2\n",
    "while num < 10:\n",
    "    print(num)\n",
    "    num += 1"
   ]
  },
  {
   "cell_type": "code",
   "execution_count": 30,
   "id": "1fdbdb70-f641-4108-987d-244b0147c4e5",
   "metadata": {},
   "outputs": [
    {
     "name": "stdout",
     "output_type": "stream",
     "text": [
      "4\n",
      "8\n",
      "16\n"
     ]
    }
   ],
   "source": [
    "# No.3\n",
    "def doubles(num): return num * 2\n",
    "\n",
    "num = 2\n",
    "for i in range(1,4):\n",
    "    print(doubles(num))\n",
    "    num += num"
   ]
  }
 ],
 "metadata": {
  "kernelspec": {
   "display_name": "Python 3 (ipykernel)",
   "language": "python",
   "name": "python3"
  },
  "language_info": {
   "codemirror_mode": {
    "name": "ipython",
    "version": 3
   },
   "file_extension": ".py",
   "mimetype": "text/x-python",
   "name": "python",
   "nbconvert_exporter": "python",
   "pygments_lexer": "ipython3",
   "version": "3.13.5"
  }
 },
 "nbformat": 4,
 "nbformat_minor": 5
}
