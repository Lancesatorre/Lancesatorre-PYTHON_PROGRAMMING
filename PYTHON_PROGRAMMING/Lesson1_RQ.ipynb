{
 "cells": [
  {
   "cell_type": "markdown",
   "id": "0a1f4b78-716a-401e-adfb-d2c167798ee1",
   "metadata": {},
   "source": [
    "# ====| PAGE 21 |====\n",
    " No.1"
   ]
  },
  {
   "cell_type": "code",
   "execution_count": 35,
   "id": "2be48a5c-f7b6-42cd-acc7-32b327f349c2",
   "metadata": {},
   "outputs": [
    {
     "name": "stdout",
     "output_type": "stream",
     "text": [
      "5\n"
     ]
    }
   ],
   "source": [
    "f_name = \"Lance\"\n",
    "print(len(f_name))"
   ]
  },
  {
   "cell_type": "markdown",
   "id": "50b1f695-9d72-4ea5-8acc-5a71132c0ff1",
   "metadata": {},
   "source": [
    "No.2"
   ]
  },
  {
   "cell_type": "code",
   "execution_count": 36,
   "id": "a23a32c0-ba20-44f7-948a-08a6dfc49990",
   "metadata": {},
   "outputs": [
    {
     "name": "stdout",
     "output_type": "stream",
     "text": [
      "LanceSatorre\n"
     ]
    }
   ],
   "source": [
    "f_strng = \"Lance\"\n",
    "s_strng = \"Satorre\"\n",
    "\n",
    "print(f_strng + s_strng)"
   ]
  },
  {
   "cell_type": "markdown",
   "id": "36528544-c851-4db3-b4dd-ce9aaa8b9815",
   "metadata": {},
   "source": [
    "No.3"
   ]
  },
  {
   "cell_type": "code",
   "execution_count": 38,
   "id": "017babd1-7c91-40a1-964a-5d0828266ac0",
   "metadata": {},
   "outputs": [
    {
     "name": "stdout",
     "output_type": "stream",
     "text": [
      "Lance Satorre\n"
     ]
    }
   ],
   "source": [
    "f_strng = \"Lance\"\n",
    "s_strng = \"Satorre\"\n",
    "\n",
    "print(f_strng + \" \" + s_strng)"
   ]
  },
  {
   "cell_type": "markdown",
   "id": "feb1b9d0-4e76-41d1-9974-04f3810bc295",
   "metadata": {},
   "source": [
    "No.4"
   ]
  },
  {
   "cell_type": "code",
   "execution_count": 40,
   "id": "056fab95-dae8-4f55-8fc9-8b051928b7e5",
   "metadata": {},
   "outputs": [
    {
     "name": "stdout",
     "output_type": "stream",
     "text": [
      "fox\n"
     ]
    }
   ],
   "source": [
    "sentence = \"The quick brown fox jumped over the lazy dog. #1234567890!\"\n",
    "\n",
    "print(sentence[16:19])"
   ]
  },
  {
   "cell_type": "markdown",
   "id": "44136413-1aea-4c1f-b9c0-5c3a806a394c",
   "metadata": {},
   "source": [
    "# ====| PAGE 25 |====\n",
    "No.1"
   ]
  },
  {
   "cell_type": "code",
   "execution_count": 29,
   "id": "163783c8-51f8-47c3-b4e9-3d525294c972",
   "metadata": {},
   "outputs": [
    {
     "name": "stdout",
     "output_type": "stream",
     "text": [
      "animal\n",
      "honey bee\n",
      "honeybadger\n"
     ]
    }
   ],
   "source": [
    "word_one = \"Animal\"\n",
    "word_two = \"Honey Bee\"\n",
    "word_three = \"Honeybadger\"\n",
    "\n",
    "print(word_one.lower())\n",
    "print(word_two.lower())\n",
    "print(word_three.lower())"
   ]
  },
  {
   "cell_type": "markdown",
   "id": "4d885637-f2c7-422f-b28b-75c3c6b4d46a",
   "metadata": {},
   "source": [
    " No.2"
   ]
  },
  {
   "cell_type": "code",
   "execution_count": null,
   "id": "0a7241ef-10f6-4148-8144-96fa62e1c615",
   "metadata": {},
   "outputs": [],
   "source": [
    "word_one = \"Animal\"\n",
    "word_two = \"Honey Bee\"\n",
    "word_three = \"Honeybadger\"\n",
    "\n",
    "print(word_one.upper())\n",
    "print(word_two.upper())\n",
    "print(word_three.upper())"
   ]
  },
  {
   "cell_type": "markdown",
   "id": "a24ec5f7-a6a4-48f5-8f6f-53313a40c493",
   "metadata": {},
   "source": [
    "No.3"
   ]
  },
  {
   "cell_type": "code",
   "execution_count": 30,
   "id": "a849d351-d599-4ee4-bd9f-10b00699c40f",
   "metadata": {},
   "outputs": [
    {
     "name": "stdout",
     "output_type": "stream",
     "text": [
      "Filet Mignon\n",
      "Brisket \n"
     ]
    }
   ],
   "source": [
    "string1 = \" Filet Mignon\"\n",
    "string2 = \"Brisket \"\n",
    "\n",
    "print(string1.lstrip())\n",
    "print(string2.lstrip())"
   ]
  },
  {
   "cell_type": "markdown",
   "id": "8eaad728-97cc-4a96-bd31-707ab59474f6",
   "metadata": {},
   "source": [
    "No.4 "
   ]
  },
  {
   "cell_type": "code",
   "execution_count": 33,
   "id": "01b44005-b8c1-441a-b34b-d02370daf034",
   "metadata": {},
   "outputs": [
    {
     "name": "stdout",
     "output_type": "stream",
     "text": [
      "False\n",
      "True\n"
     ]
    }
   ],
   "source": [
    "string1 = \"Becomes\"\n",
    "string2 = \"becomes\"\n",
    "\n",
    "print(string1.startswith(\"be\"))\n",
    "print(string2.startswith(\"be\"))"
   ]
  },
  {
   "cell_type": "markdown",
   "id": "cc18d6db-7747-47b4-aa3b-dc154d0e103b",
   "metadata": {},
   "source": [
    "No.5 "
   ]
  },
  {
   "cell_type": "code",
   "execution_count": 37,
   "id": "cd1984e5-8706-4f36-915d-fbbea0b54a50",
   "metadata": {},
   "outputs": [
    {
     "name": "stdout",
     "output_type": "stream",
     "text": [
      "True\n",
      "True\n"
     ]
    }
   ],
   "source": [
    "string1 = \"Becomes\"\n",
    "string2 = \"becomes\"\n",
    "\n",
    "newString1 = \"be\" + string1[2:]\n",
    "print(newString1.startswith(\"be\"))\n",
    "print(string2.startswith(\"be\"))"
   ]
  },
  {
   "cell_type": "markdown",
   "id": "a0ec07bf-3b84-4ecd-be7c-9da264349a9b",
   "metadata": {},
   "source": [
    "# ====| PAGE 27 |====\n",
    "\n",
    "No.1 "
   ]
  },
  {
   "cell_type": "code",
   "execution_count": 87,
   "id": "ac2f8a72-98bb-4dd0-a02e-59c4d6a2411b",
   "metadata": {},
   "outputs": [
    {
     "name": "stdin",
     "output_type": "stream",
     "text": [
      "What is your name?:  Lance\n"
     ]
    },
    {
     "name": "stdout",
     "output_type": "stream",
     "text": [
      "My name is Lance\n"
     ]
    }
   ],
   "source": [
    "prompt = \"What is your name?: \"\n",
    "user_input = input(prompt)\n",
    "\n",
    "print(\"My name is \" + user_input)"
   ]
  },
  {
   "cell_type": "markdown",
   "id": "c33882e3-7e99-4f39-8c23-0ea8819e206f",
   "metadata": {},
   "source": [
    "No.2"
   ]
  },
  {
   "cell_type": "markdown",
   "id": "150e483f-ee10-462c-8b2a-35f91c1b14b4",
   "metadata": {},
   "source": [
    "prompt = \"What is your name?: \"\n",
    "user_input = input(prompt)\n",
    "\n",
    "print(\"My name is \" + user_input.lower())"
   ]
  },
  {
   "cell_type": "markdown",
   "id": "185c5e5f-1c0d-4f78-aa3f-750f58944acb",
   "metadata": {},
   "source": [
    "No.3"
   ]
  },
  {
   "cell_type": "code",
   "execution_count": 50,
   "id": "588843d1-6deb-4f45-bea4-e88f02a08d3a",
   "metadata": {},
   "outputs": [
    {
     "name": "stdin",
     "output_type": "stream",
     "text": [
      "What is your name?:  awd\n"
     ]
    },
    {
     "name": "stdout",
     "output_type": "stream",
     "text": [
      "My name is awd\n",
      "Total characters:  3\n"
     ]
    }
   ],
   "source": [
    "prompt = \"What is your name?: \"\n",
    "user_input = input(prompt)\n",
    "\n",
    "print(\"My name is \" + user_input)\n",
    "print(\"Total characters: \", len(user_input))"
   ]
  },
  {
   "cell_type": "markdown",
   "id": "9055d854-2cc0-4fff-ab2a-79605499f448",
   "metadata": {},
   "source": [
    "# ====| PAGE 28 |===="
   ]
  },
  {
   "cell_type": "markdown",
   "id": "f6a302a7-ff6e-4a83-92d0-2bb58707431e",
   "metadata": {},
   "source": [
    "No.1"
   ]
  },
  {
   "cell_type": "code",
   "execution_count": 58,
   "id": "759d4a30-af47-451a-8859-493edde9b253",
   "metadata": {},
   "outputs": [
    {
     "name": "stdin",
     "output_type": "stream",
     "text": [
      "Tell me your name:  lance\n"
     ]
    },
    {
     "name": "stdout",
     "output_type": "stream",
     "text": [
      "Your name is: lance\n",
      "The first Letter is 'l'\n",
      "-------------------------\n",
      "Convert to Upper-case 'L'\n"
     ]
    }
   ],
   "source": [
    "promptName = \"Tell me your name: \"\n",
    "user_input = input(promptName)\n",
    "first_letter = user_input[0]\n",
    "\n",
    "print(\"Your name is: \" + user_input)\n",
    "print(\"The first Letter is '\" + first_letter + \"'\")\n",
    "\n",
    "\n",
    "print(\"-------------------------\")\n",
    "print(\"Convert to Upper-case '\" + first_letter.upper() + \"'\")\n"
   ]
  },
  {
   "cell_type": "markdown",
   "id": "8c250498-a9bc-4087-8672-82d90a4aa09d",
   "metadata": {},
   "source": [
    "# ====| PAGE 33 |====\n",
    "No.1"
   ]
  },
  {
   "cell_type": "code",
   "execution_count": 59,
   "id": "651cc637-84fd-4a3d-900d-ecc955926ff8",
   "metadata": {},
   "outputs": [
    {
     "name": "stdout",
     "output_type": "stream",
     "text": [
      "4008\n"
     ]
    }
   ],
   "source": [
    "string = \"2004\"\n",
    "sum  = int(string) * 2\n",
    "\n",
    "print(sum)"
   ]
  },
  {
   "cell_type": "markdown",
   "id": "5401f573-eee9-4065-ad8a-2ed489ce1951",
   "metadata": {},
   "source": [
    " No.2"
   ]
  },
  {
   "cell_type": "code",
   "execution_count": 69,
   "id": "31e1ca91-cc47-4503-bfcf-d1c47696372b",
   "metadata": {},
   "outputs": [
    {
     "name": "stdout",
     "output_type": "stream",
     "text": [
      "4008.46\n"
     ]
    }
   ],
   "source": [
    "string1 = \"2004.23\"\n",
    "total  = float(string1) * 2\n",
    "\n",
    "print(total)"
   ]
  },
  {
   "cell_type": "markdown",
   "id": "2c4fa73c-8d28-4d0c-8b87-198f631906ea",
   "metadata": {},
   "source": [
    "No.3"
   ]
  },
  {
   "cell_type": "code",
   "execution_count": 70,
   "id": "e4f1b63e-44c7-4a91-a241-8249b33e8b08",
   "metadata": {},
   "outputs": [
    {
     "name": "stdout",
     "output_type": "stream",
     "text": [
      "Lance2004\n"
     ]
    }
   ],
   "source": [
    "stringOb = \"Lance\"\n",
    "num = 2004\n",
    "\n",
    "print(stringOb + str(num))"
   ]
  },
  {
   "cell_type": "markdown",
   "id": "b56fd017-df2f-410a-9c1e-1f530b0f2ca4",
   "metadata": {},
   "source": [
    "No.4"
   ]
  },
  {
   "cell_type": "code",
   "execution_count": 86,
   "id": "1c38c508-f5ef-4cd3-850e-85c50e8ff2b1",
   "metadata": {},
   "outputs": [
    {
     "name": "stdin",
     "output_type": "stream",
     "text": [
      "Enter the first number:  23\n",
      "Enter the second number:  12\n"
     ]
    },
    {
     "name": "stdout",
     "output_type": "stream",
     "text": [
      "23 + 12 =  276\n"
     ]
    }
   ],
   "source": [
    "prompt1 = \"Enter the first number: \"\n",
    "input_num1 = input(prompt1)\n",
    "prompt2 = \"Enter the second number: \"\n",
    "input_num2 = input(prompt2)\n",
    "\n",
    "total = int(input_num1) * int(input_num2)\n",
    "\n",
    "print(input_num1 + \" + \" + input_num2 + \" = \", total)"
   ]
  },
  {
   "cell_type": "markdown",
   "id": "4ad844b4-1562-484d-b99a-73fcef2fb3af",
   "metadata": {},
   "source": [
    "# ====| PAGE 36 |====\n",
    "No.1"
   ]
  },
  {
   "cell_type": "code",
   "execution_count": 88,
   "id": "d2955d6e-32f5-423f-a453-4b0d4a1fb38d",
   "metadata": {},
   "outputs": [
    {
     "name": "stdout",
     "output_type": "stream",
     "text": [
      "-1\n"
     ]
    }
   ],
   "source": [
    "string= \"AAA\" \n",
    "\n",
    "print(string.find(\"a\"))"
   ]
  },
  {
   "cell_type": "markdown",
   "id": "9e3c2ad1-75b2-4744-a439-f662eb7c63e8",
   "metadata": {},
   "source": [
    "No.2"
   ]
  },
  {
   "cell_type": "code",
   "execution_count": 90,
   "id": "2907f4a6-178b-4ff2-99f9-1369efeb631b",
   "metadata": {},
   "outputs": [
    {
     "name": "stdout",
     "output_type": "stream",
     "text": [
      "Somebody yaid yomething to Samantha\n"
     ]
    }
   ],
   "source": [
    "sentence = \"Somebody said something to Samantha\"\n",
    "print(sentence.replace(\"s\", \"y\"))"
   ]
  },
  {
   "cell_type": "markdown",
   "id": "19182d6f-ebbc-46b0-97d7-3e8b97f71c5a",
   "metadata": {},
   "source": [
    "No.3"
   ]
  },
  {
   "cell_type": "code",
   "execution_count": 10,
   "id": "304fa569-ad2d-4ae8-81a1-24be06748182",
   "metadata": {},
   "outputs": [
    {
     "name": "stdin",
     "output_type": "stream",
     "text": [
      "Input a Text:  lance\n",
      "Enter the letter to find:  z\n"
     ]
    },
    {
     "name": "stdout",
     "output_type": "stream",
     "text": [
      "The letter 'z' was not found in the text.\n"
     ]
    }
   ],
   "source": [
    "promptString = \"Input a Text: \"\n",
    "Text_input = input(promptString)\n",
    "\n",
    "find = \"Enter the letter to find: \"\n",
    "find_input = input(find)\n",
    "\n",
    "found = Text_input.find(find_input)\n",
    "\n",
    "if found != -1: print(\"The letter '\" + find_input + \"' was found at position\", found + \" (index starting from 0).\")\n",
    "else: print(\"The letter '\" + find_input+\"' was not found in the text.\")\n"
   ]
  },
  {
   "cell_type": "markdown",
   "id": "2567f609-7a1b-4e9b-a79d-f3e010d4c1a5",
   "metadata": {},
   "source": [
    "# ====| PAGE 37 |===="
   ]
  },
  {
   "cell_type": "code",
   "execution_count": 24,
   "id": "107ba159-bc41-41fb-8b08-8392e4ebeaba",
   "metadata": {},
   "outputs": [
    {
     "name": "stdin",
     "output_type": "stream",
     "text": [
      "Enter some text:  I like to eat eggs and spam.\n"
     ]
    },
    {
     "name": "stdout",
     "output_type": "stream",
     "text": [
      "I 1ik3 70 347 3gg5 4nd 5p4m.\n"
     ]
    }
   ],
   "source": [
    "text = input(\"Enter some text: \").replace(\"a\", \"4\").replace(\"b\", \"8\").replace(\"e\", \"3\").replace(\"l\", \"1\").replace(\"o\", \"0\").replace(\"s\", \"5\").replace(\"t\", \"7\")\n",
    "\n",
    "print(text)"
   ]
  },
  {
   "cell_type": "code",
   "execution_count": null,
   "id": "2cfb2a36-7702-461d-ba56-1556ae42490b",
   "metadata": {},
   "outputs": [],
   "source": []
  }
 ],
 "metadata": {
  "kernelspec": {
   "display_name": "Python [conda env:base] *",
   "language": "python",
   "name": "conda-base-py"
  },
  "language_info": {
   "codemirror_mode": {
    "name": "ipython",
    "version": 3
   },
   "file_extension": ".py",
   "mimetype": "text/x-python",
   "name": "python",
   "nbconvert_exporter": "python",
   "pygments_lexer": "ipython3",
   "version": "3.13.5"
  }
 },
 "nbformat": 4,
 "nbformat_minor": 5
}
