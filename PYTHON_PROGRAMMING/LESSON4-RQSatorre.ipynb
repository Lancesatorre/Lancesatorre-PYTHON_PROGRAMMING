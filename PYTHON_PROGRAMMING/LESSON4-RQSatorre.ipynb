{
 "cells": [
  {
   "cell_type": "markdown",
   "id": "ba8eef07-1dbc-451d-86f0-f2735e4271a4",
   "metadata": {},
   "source": [
    "# REVIEW QUESTION / LECTURE No. 4"
   ]
  },
  {
   "cell_type": "markdown",
   "id": "f2f691f8-667b-4863-bd92-e56ec4cdd5c0",
   "metadata": {},
   "source": [
    "Page 5"
   ]
  },
  {
   "cell_type": "code",
   "execution_count": 6,
   "id": "6ec3bd6f-8c3a-4daa-b0ac-4957fa1ae51e",
   "metadata": {},
   "outputs": [
    {
     "name": "stdout",
     "output_type": "stream",
     "text": [
      "True\n",
      "False\n",
      "True\n",
      "True\n",
      "True\n",
      "False\n"
     ]
    }
   ],
   "source": [
    "a = 1 <= 1\n",
    "b = 1 != 1\n",
    "c = 1 != 2\n",
    "d = \"good\" != \"bad\"\n",
    "e = \"good\" != \"Good\"\n",
    "f = 123 == \"123\"\n",
    "\n",
    "print(a)\n",
    "print(b)\n",
    "print(c)\n",
    "print(d)\n",
    "print(e)\n",
    "print(f)"
   ]
  },
  {
   "cell_type": "code",
   "execution_count": 4,
   "id": "2b05d2cb-2367-44ba-b0a5-eef3349fe19e",
   "metadata": {},
   "outputs": [
    {
     "name": "stdout",
     "output_type": "stream",
     "text": [
      "True\n",
      "True\n",
      "True\n",
      "True\n"
     ]
    }
   ],
   "source": [
    "print(3 < 4)\n",
    "print(10 > 5)\n",
    "print(\"jack\" != \"jill\")\n",
    "print(42 != \"42\")"
   ]
  },
  {
   "cell_type": "markdown",
   "id": "ada15ddd-e349-4acb-a07f-7ee26d7784ad",
   "metadata": {},
   "source": [
    "Page 10"
   ]
  },
  {
   "cell_type": "code",
   "execution_count": 10,
   "id": "3be77faf-63da-409f-8563-4875b5e50122",
   "metadata": {},
   "outputs": [
    {
     "name": "stdout",
     "output_type": "stream",
     "text": [
      "False\n",
      "False\n",
      "True\n",
      "False\n"
     ]
    }
   ],
   "source": [
    "print((a) and (b))\n",
    "print(not (c))\n",
    "print((d) or False)\n",
    "print((e) and not (1 == 1))"
   ]
  },
  {
   "cell_type": "code",
   "execution_count": 27,
   "id": "c6011828-d2a3-4c7e-8aec-bda16c1cf998",
   "metadata": {},
   "outputs": [
    {
     "name": "stdout",
     "output_type": "stream",
     "text": [
      "True\n",
      "True\n",
      "True\n"
     ]
    }
   ],
   "source": [
    "print(False == (not True))\n",
    "print(True and False == (True and False))\n",
    "print(not (True and \"A\" == \"B\"))"
   ]
  },
  {
   "cell_type": "markdown",
   "id": "cf91716a-6bb9-4ec4-86ff-a6d83fb440f9",
   "metadata": {},
   "source": [
    "Page 15"
   ]
  },
  {
   "cell_type": "code",
   "execution_count": 37,
   "id": "c2399ac2-6f26-4a27-9c0c-b8dd6fea2d44",
   "metadata": {},
   "outputs": [
    {
     "name": "stdin",
     "output_type": "stream",
     "text": [
      "Enter a word:  lansee\n"
     ]
    },
    {
     "name": "stdout",
     "output_type": "stream",
     "text": [
      "Character is greater than 5\n"
     ]
    }
   ],
   "source": [
    "prompt = input(\"Enter a word: \")\n",
    "if len(prompt) < 5: print(\"Character is less than 5\")\n",
    "elif len(prompt) > 5: print(\"Character is greater than 5\")\n",
    "else: print(\"Character is equal to 5\")"
   ]
  },
  {
   "cell_type": "markdown",
   "id": "8455fb52-4dff-4d18-9ed2-d889d2f26590",
   "metadata": {},
   "source": [
    "Page 20"
   ]
  },
  {
   "cell_type": "code",
   "execution_count": 42,
   "id": "b23ef8a2-e98d-4a79-919e-c6dc5c702ca0",
   "metadata": {},
   "outputs": [
    {
     "name": "stdin",
     "output_type": "stream",
     "text": [
      "Input anything:  lance\n",
      "Input anything:  timothy\n",
      "Input anything:  queesn\n"
     ]
    }
   ],
   "source": [
    "found_Q = False;\n",
    "while True: \n",
    "  user_input = input(\"Input anything: \") \n",
    "  for n in user_input:\n",
    "      if n == \"Q\" or n == \"q\": \n",
    "          found_Q = True\n",
    "          break;\n",
    "  if found_Q:\n",
    "    break;           "
   ]
  },
  {
   "cell_type": "code",
   "execution_count": null,
   "id": "d11bfd9e-ec9b-44f6-8b55-8ef11867671e",
   "metadata": {},
   "outputs": [],
   "source": []
  }
 ],
 "metadata": {
  "kernelspec": {
   "display_name": "Python 3 (ipykernel)",
   "language": "python",
   "name": "python3"
  },
  "language_info": {
   "codemirror_mode": {
    "name": "ipython",
    "version": 3
   },
   "file_extension": ".py",
   "mimetype": "text/x-python",
   "name": "python",
   "nbconvert_exporter": "python",
   "pygments_lexer": "ipython3",
   "version": "3.13.5"
  }
 },
 "nbformat": 4,
 "nbformat_minor": 5
}
